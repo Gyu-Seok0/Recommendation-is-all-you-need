{
 "cells": [
  {
   "cell_type": "markdown",
   "id": "a7ca5c3e",
   "metadata": {},
   "source": [
    "# 목적\n",
    "간단한 movie lens data를 토대로 MF를 구현해봅시다."
   ]
  },
  {
   "cell_type": "code",
   "execution_count": 1,
   "id": "9d47e34a",
   "metadata": {},
   "outputs": [],
   "source": [
    "import pandas as pd\n",
    "data = pd.read_csv(\"../ml-100k/u.data\", sep = \"\\t\", names = [\"user_id\",\"item_id\",\"rating\",\"timestamp\"])\n",
    "data[\"user_id\"] -= 1\n",
    "data[\"item_id\"] -= 1\n",
    "data[\"rating\"] -= 1"
   ]
  },
  {
   "cell_type": "code",
   "execution_count": 2,
   "id": "7f88afd0",
   "metadata": {},
   "outputs": [
    {
     "data": {
      "text/html": [
       "<div>\n",
       "<style scoped>\n",
       "    .dataframe tbody tr th:only-of-type {\n",
       "        vertical-align: middle;\n",
       "    }\n",
       "\n",
       "    .dataframe tbody tr th {\n",
       "        vertical-align: top;\n",
       "    }\n",
       "\n",
       "    .dataframe thead th {\n",
       "        text-align: right;\n",
       "    }\n",
       "</style>\n",
       "<table border=\"1\" class=\"dataframe\">\n",
       "  <thead>\n",
       "    <tr style=\"text-align: right;\">\n",
       "      <th></th>\n",
       "      <th>user_id</th>\n",
       "      <th>item_id</th>\n",
       "      <th>rating</th>\n",
       "      <th>timestamp</th>\n",
       "    </tr>\n",
       "  </thead>\n",
       "  <tbody>\n",
       "    <tr>\n",
       "      <th>0</th>\n",
       "      <td>195</td>\n",
       "      <td>241</td>\n",
       "      <td>2</td>\n",
       "      <td>881250949</td>\n",
       "    </tr>\n",
       "    <tr>\n",
       "      <th>1</th>\n",
       "      <td>185</td>\n",
       "      <td>301</td>\n",
       "      <td>2</td>\n",
       "      <td>891717742</td>\n",
       "    </tr>\n",
       "    <tr>\n",
       "      <th>2</th>\n",
       "      <td>21</td>\n",
       "      <td>376</td>\n",
       "      <td>0</td>\n",
       "      <td>878887116</td>\n",
       "    </tr>\n",
       "    <tr>\n",
       "      <th>3</th>\n",
       "      <td>243</td>\n",
       "      <td>50</td>\n",
       "      <td>1</td>\n",
       "      <td>880606923</td>\n",
       "    </tr>\n",
       "    <tr>\n",
       "      <th>4</th>\n",
       "      <td>165</td>\n",
       "      <td>345</td>\n",
       "      <td>0</td>\n",
       "      <td>886397596</td>\n",
       "    </tr>\n",
       "    <tr>\n",
       "      <th>...</th>\n",
       "      <td>...</td>\n",
       "      <td>...</td>\n",
       "      <td>...</td>\n",
       "      <td>...</td>\n",
       "    </tr>\n",
       "    <tr>\n",
       "      <th>99995</th>\n",
       "      <td>879</td>\n",
       "      <td>475</td>\n",
       "      <td>2</td>\n",
       "      <td>880175444</td>\n",
       "    </tr>\n",
       "    <tr>\n",
       "      <th>99996</th>\n",
       "      <td>715</td>\n",
       "      <td>203</td>\n",
       "      <td>4</td>\n",
       "      <td>879795543</td>\n",
       "    </tr>\n",
       "    <tr>\n",
       "      <th>99997</th>\n",
       "      <td>275</td>\n",
       "      <td>1089</td>\n",
       "      <td>0</td>\n",
       "      <td>874795795</td>\n",
       "    </tr>\n",
       "    <tr>\n",
       "      <th>99998</th>\n",
       "      <td>12</td>\n",
       "      <td>224</td>\n",
       "      <td>1</td>\n",
       "      <td>882399156</td>\n",
       "    </tr>\n",
       "    <tr>\n",
       "      <th>99999</th>\n",
       "      <td>11</td>\n",
       "      <td>202</td>\n",
       "      <td>2</td>\n",
       "      <td>879959583</td>\n",
       "    </tr>\n",
       "  </tbody>\n",
       "</table>\n",
       "<p>100000 rows × 4 columns</p>\n",
       "</div>"
      ],
      "text/plain": [
       "       user_id  item_id  rating  timestamp\n",
       "0          195      241       2  881250949\n",
       "1          185      301       2  891717742\n",
       "2           21      376       0  878887116\n",
       "3          243       50       1  880606923\n",
       "4          165      345       0  886397596\n",
       "...        ...      ...     ...        ...\n",
       "99995      879      475       2  880175444\n",
       "99996      715      203       4  879795543\n",
       "99997      275     1089       0  874795795\n",
       "99998       12      224       1  882399156\n",
       "99999       11      202       2  879959583\n",
       "\n",
       "[100000 rows x 4 columns]"
      ]
     },
     "execution_count": 2,
     "metadata": {},
     "output_type": "execute_result"
    }
   ],
   "source": [
    "data"
   ]
  },
  {
   "cell_type": "markdown",
   "id": "a0e641e9",
   "metadata": {},
   "source": [
    "# 숫자 세기"
   ]
  },
  {
   "cell_type": "code",
   "execution_count": 3,
   "id": "d9f68a44",
   "metadata": {},
   "outputs": [
    {
     "name": "stdout",
     "output_type": "stream",
     "text": [
      "num of user = 943, num of item = 1682\n"
     ]
    }
   ],
   "source": [
    "num_u = len(data.user_id.unique())\n",
    "num_i = len(data.item_id.unique())\n",
    "print(f\"num of user = {num_u}, num of item = {num_i}\")"
   ]
  },
  {
   "cell_type": "markdown",
   "id": "f1a091aa",
   "metadata": {},
   "source": [
    "# Embedding layer 만들기(예제)"
   ]
  },
  {
   "cell_type": "code",
   "execution_count": 4,
   "id": "22775e9e",
   "metadata": {},
   "outputs": [],
   "source": [
    "import torch\n",
    "train_data = \"you need to know how to code\"\n",
    "word_set = set(train_data.split())\n",
    "\n",
    "# 단어:정수 Mapping\n",
    "vocab = {tkn:i+1 for i,tkn in enumerate(word_set)}\n",
    "vocab[\"<unk>\"] = 0\n",
    "vocab[\"<pad>\"] = 1"
   ]
  },
  {
   "cell_type": "code",
   "execution_count": 5,
   "id": "6c06b643",
   "metadata": {},
   "outputs": [],
   "source": [
    "import torch.nn as nn\n",
    "embedding_layer = nn.Embedding(num_embeddings = len(vocab), embedding_dim= 3)"
   ]
  },
  {
   "cell_type": "code",
   "execution_count": 6,
   "id": "41301a59",
   "metadata": {},
   "outputs": [
    {
     "name": "stdout",
     "output_type": "stream",
     "text": [
      "Parameter containing:\n",
      "tensor([[-2.0507, -0.5085, -0.3273],\n",
      "        [-0.0980,  0.9515, -1.7041],\n",
      "        [ 0.4137,  1.7659,  1.2630],\n",
      "        [-0.6755,  1.0496,  0.8582],\n",
      "        [ 1.3402,  1.0862,  0.8682],\n",
      "        [ 0.4944, -0.2391,  0.0389],\n",
      "        [ 0.2993,  1.0379,  1.0367],\n",
      "        [ 0.3308, -0.2118, -0.4719]], requires_grad=True)\n"
     ]
    }
   ],
   "source": [
    "print(embedding_layer.weight)"
   ]
  },
  {
   "cell_type": "markdown",
   "id": "71f2dc01",
   "metadata": {},
   "source": [
    "# Embedding layer (추천용)"
   ]
  },
  {
   "cell_type": "code",
   "execution_count": 7,
   "id": "d6149458",
   "metadata": {
    "scrolled": true
   },
   "outputs": [
    {
     "name": "stdout",
     "output_type": "stream",
     "text": [
      "Shape of user_em = Embedding(943, 10)\n",
      "Shape of item_em = Embedding(1682, 10)\n"
     ]
    },
    {
     "data": {
      "text/plain": [
       "torch.Size([10])"
      ]
     },
     "execution_count": 7,
     "metadata": {},
     "output_type": "execute_result"
    }
   ],
   "source": [
    "dim = 10\n",
    "user_em = nn.Embedding(num_embeddings = num_u,\n",
    "                       embedding_dim = dim)\n",
    "item_em = nn.Embedding(num_embeddings = num_i,\n",
    "                      embedding_dim = dim)\n",
    "print(f\"Shape of user_em = {user_em}\")\n",
    "print(f\"Shape of item_em = {item_em}\")\n",
    "\n",
    "user_em.weight[0].shape"
   ]
  },
  {
   "cell_type": "code",
   "execution_count": 8,
   "id": "51d1668d",
   "metadata": {},
   "outputs": [
    {
     "data": {
      "text/plain": [
       "Parameter containing:\n",
       "tensor([[-0.3210, -1.9865, -2.7789,  ..., -0.4105, -1.2386, -0.3254],\n",
       "        [ 0.7660, -0.1116,  0.3011,  ...,  0.0061,  0.8234,  0.0473],\n",
       "        [-0.9845, -1.4264,  0.5728,  ..., -1.4190, -0.5739, -0.4392],\n",
       "        ...,\n",
       "        [ 0.2876, -0.2003, -0.5114,  ...,  0.4709, -0.1488, -1.1763],\n",
       "        [-1.5660,  1.1462, -0.2695,  ..., -0.4137, -0.7866,  0.0564],\n",
       "        [-0.4814,  0.1979,  0.9047,  ..., -1.0386, -0.5263,  0.6636]],\n",
       "       requires_grad=True)"
      ]
     },
     "execution_count": 8,
     "metadata": {},
     "output_type": "execute_result"
    }
   ],
   "source": [
    "user_em.weight"
   ]
  },
  {
   "cell_type": "markdown",
   "id": "3aefb516",
   "metadata": {},
   "source": [
    "# Stochastic Gradient Descent"
   ]
  },
  {
   "cell_type": "code",
   "execution_count": 9,
   "id": "f4a1d076",
   "metadata": {},
   "outputs": [],
   "source": [
    "#어떻게 파라미터를 update 시키지 -> freeze 시키면 되는듯..?\n",
    "\n",
    "class MF(nn.Module):\n",
    "    def __init__(self, num_u:int, num_i:int, dim:int):\n",
    "        super().__init__()\n",
    "        self.user_em = nn.Embedding(num_embeddings = num_u, embedding_dim = dim)\n",
    "        self.item_em = nn.Embedding(num_embeddings = num_i, embedding_dim = dim)\n",
    "        self.fc = nn.Linear(1, 5)\n",
    "        \n",
    "        nn.init.normal_(self.user_em.weight, mean = 0, std = 0.01)\n",
    "        nn.init.normal_(self.item_em.weight, mean = 0, std = 0.01)\n",
    "        nn.init.normal_(self.fc.weight, mean = 0, std = 0.01)\n",
    "    \n",
    "    def forward(self, user, item):\n",
    "        out = torch.sum(self.user_em(user) * self.item_em(item), dim=1)\n",
    "        out = out.view(out.size(0),1)\n",
    "        out = self.fc(out)\n",
    "        \n",
    "        return out\n",
    "model = MF(num_u, num_i, dim)"
   ]
  },
  {
   "cell_type": "code",
   "execution_count": 10,
   "id": "8d868708",
   "metadata": {},
   "outputs": [],
   "source": [
    "X = data[[\"user_id\",\"item_id\"]]\n",
    "Y = data[\"rating\"]"
   ]
  },
  {
   "cell_type": "code",
   "execution_count": 11,
   "id": "1867229e",
   "metadata": {},
   "outputs": [],
   "source": [
    "import random\n",
    "random.seed(42)\n",
    "test_idx = random.sample(range(len(data)), int(len(data)*0.2 ))\n",
    "\n",
    "test = data.iloc[test_idx,:]\n",
    "train = data.drop(test_idx).sample(frac = 1) # 셔플시켜줌\n",
    "\n",
    "X_test, Y_test = test[[\"user_id\",\"item_id\"]].values.tolist(), test[\"rating\"].tolist()\n",
    "X_train, Y_train = train[[\"user_id\",\"item_id\"]].values.tolist(), train[\"rating\"].tolist()"
   ]
  },
  {
   "cell_type": "code",
   "execution_count": 12,
   "id": "a17815f2",
   "metadata": {},
   "outputs": [
    {
     "name": "stdout",
     "output_type": "stream",
     "text": [
      "Train = (80000, 80000)\n",
      "Test = (20000, 20000)\n"
     ]
    }
   ],
   "source": [
    "print(f\"Train = {len(X_train), len(Y_train)}\")\n",
    "print(f\"Test = {len(X_test), len(Y_test)}\")"
   ]
  },
  {
   "cell_type": "markdown",
   "id": "9def7e83",
   "metadata": {},
   "source": [
    "# 한번 돌려보기"
   ]
  },
  {
   "cell_type": "code",
   "execution_count": 13,
   "id": "4bc50cb9",
   "metadata": {},
   "outputs": [],
   "source": [
    "#\n",
    "learing_rate = 0.1\n",
    "training_epoch = 5\n",
    "\n",
    "#loss = nn.MSELoss()\n",
    "loss = nn.CrossEntropyLoss()\n",
    "optimizer = torch.optim.SGD(model.parameters(),lr = learing_rate, momentum = 0.9)"
   ]
  },
  {
   "cell_type": "code",
   "execution_count": 14,
   "id": "c5568aa9",
   "metadata": {},
   "outputs": [
    {
     "name": "stdout",
     "output_type": "stream",
     "text": [
      "Parameter containing:\n",
      "tensor([[-8.8933e-03, -3.1267e-06,  8.8873e-03,  ..., -1.2132e-02,\n",
      "         -1.8467e-03, -9.3277e-03],\n",
      "        [-1.3323e-02,  6.5160e-03, -5.3129e-03,  ...,  2.3132e-03,\n",
      "         -3.6649e-03, -6.5952e-03],\n",
      "        [ 2.4375e-03,  8.4508e-04,  9.3000e-04,  ..., -2.9175e-05,\n",
      "          4.5125e-03, -9.7918e-03],\n",
      "        ...,\n",
      "        [ 7.2346e-04,  4.6420e-03, -1.3461e-02,  ...,  2.4302e-03,\n",
      "         -1.9118e-02,  1.0981e-02],\n",
      "        [ 1.2318e-02, -9.5923e-03, -5.1666e-03,  ...,  2.7828e-02,\n",
      "          6.5069e-04, -1.0249e-02],\n",
      "        [-8.9261e-03, -1.0839e-02,  5.1655e-04,  ...,  3.3896e-03,\n",
      "         -2.0417e-03, -9.8651e-03]], requires_grad=True)\n"
     ]
    }
   ],
   "source": [
    "import copy\n",
    "before_user_em = copy.deepcopy(model.user_em.weight)\n",
    "before_item_em = copy.deepcopy(model.item_em.weight)\n",
    "print(before_item_em)"
   ]
  },
  {
   "cell_type": "code",
   "execution_count": 15,
   "id": "2a82ef53",
   "metadata": {},
   "outputs": [],
   "source": [
    "from torch.utils.data import Dataset, DataLoader\n",
    "\n",
    "class CustomDataset(Dataset):\n",
    "    def __init__(self, X, Y):\n",
    "        self.X = X\n",
    "        self.Y = Y\n",
    "        \n",
    "    def __len__(self):\n",
    "        return len(self.X)\n",
    "        \n",
    "    def __getitem__(self,idx):\n",
    "        x = self.X[idx]\n",
    "        y = torch.tensor(self.Y[idx]).type(torch.LongTensor)\n",
    "        return x,y\n"
   ]
  },
  {
   "cell_type": "code",
   "execution_count": 16,
   "id": "e1bf0836",
   "metadata": {},
   "outputs": [],
   "source": [
    "# Dataset & DataLoader\n",
    "train_dataset = CustomDataset(X_train, Y_train)\n",
    "test_dataset = CustomDataset(X_test, Y_test)\n",
    "\n",
    "Batch_size = 128\n",
    "train_loader = DataLoader(train_dataset, batch_size = Batch_size, shuffle = True, drop_last = True)\n",
    "test_loader = DataLoader(test_dataset, batch_size = Batch_size, shuffle = False, drop_last = False)"
   ]
  },
  {
   "cell_type": "code",
   "execution_count": 17,
   "id": "fcd25a38",
   "metadata": {},
   "outputs": [],
   "source": [
    "# 돌아가는지 확인\n",
    "x,y = next(iter(train_loader))\n",
    "pred = model(x[0],x[1])"
   ]
  },
  {
   "cell_type": "code",
   "execution_count": 18,
   "id": "e5dc9066",
   "metadata": {},
   "outputs": [
    {
     "data": {
      "text/plain": [
       "torch.Size([128, 5])"
      ]
     },
     "execution_count": 18,
     "metadata": {},
     "output_type": "execute_result"
    }
   ],
   "source": [
    "pred.shape"
   ]
  },
  {
   "cell_type": "code",
   "execution_count": 24,
   "id": "6d6b17f5",
   "metadata": {
    "scrolled": true
   },
   "outputs": [
    {
     "name": "stdout",
     "output_type": "stream",
     "text": [
      "[Epoch:1], cost = 1.4671899019241332\n",
      "[Epoch:2], cost = 1.4671734085083008\n",
      "[Epoch:3], cost = 1.4669626609802247\n",
      "[Epoch:4], cost = 1.4673110651016235\n",
      "[Epoch:5], cost = 1.466767928314209\n"
     ]
    }
   ],
   "source": [
    "# 본격적인 학습\n",
    "total_cost = []\n",
    "model.train()\n",
    "for epoch in range(training_epoch):\n",
    "    epoch_cost = 0\n",
    "    for idx, (X,Y) in enumerate(train_loader):\n",
    "        pred = model(X[0],X[1]) # user, item\n",
    "        cost = loss(pred, Y)\n",
    "        optimizer.zero_grad()\n",
    "        cost.backward()\n",
    "        optimizer.step()\n",
    "        \n",
    "        # 계산\n",
    "        total_cost.append(cost.item())\n",
    "        epoch_cost += cost.item()\n",
    "        \n",
    "    epoch_cost /= len(train_loader)\n",
    "    print(f\"[Epoch:{epoch+1}], cost = {epoch_cost}\")"
   ]
  },
  {
   "cell_type": "code",
   "execution_count": null,
   "id": "91aee375",
   "metadata": {},
   "outputs": [],
   "source": []
  }
 ],
 "metadata": {
  "kernelspec": {
   "display_name": "Python 3 (ipykernel)",
   "language": "python",
   "name": "python3"
  },
  "language_info": {
   "codemirror_mode": {
    "name": "ipython",
    "version": 3
   },
   "file_extension": ".py",
   "mimetype": "text/x-python",
   "name": "python",
   "nbconvert_exporter": "python",
   "pygments_lexer": "ipython3",
   "version": "3.8.10"
  }
 },
 "nbformat": 4,
 "nbformat_minor": 5
}
