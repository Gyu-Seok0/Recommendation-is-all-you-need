{
 "cells": [
  {
   "cell_type": "markdown",
   "id": "667ef5f4",
   "metadata": {},
   "source": [
    "# Apriori, FP-growth\n",
    "묶음상품을 추천해준다면, 위와 같은 알고리즘을 사용할 수 있을 것 같다.\n",
    "데이터가 많으면 충분히 사용이 가능하다.\n",
    "\n",
    "그러나 새로운 데이터보다는 기존 데이터에 더 치중할 가능성이 있다.\n",
    "\n",
    "참고로 초기 추천시스템에서 주로 사용된 경향성을 띠고, online learing의 형태로 (transaction이 들어올때 마다 다시 학습이 가능한 구조)가 될 것으로 보인다.\n",
    "\n",
    "사실 추천시스템이 applicable하려면 online learning에 적합한 연구가 더욱 있어야하지 않을까 싶다."
   ]
  },
  {
   "cell_type": "code",
   "execution_count": 1,
   "id": "e5ad3c26",
   "metadata": {},
   "outputs": [],
   "source": [
    "import mlxtend\n",
    "import numpy as np\n",
    "import pandas as pd"
   ]
  },
  {
   "cell_type": "code",
   "execution_count": 6,
   "id": "a816b7df",
   "metadata": {},
   "outputs": [
    {
     "name": "stderr",
     "output_type": "stream",
     "text": [
      "/var/folders/mh/jx8lklg147lb8j4rz9bcxl6w0000gn/T/ipykernel_79098/4186345831.py:1: VisibleDeprecationWarning: Creating an ndarray from ragged nested sequences (which is a list-or-tuple of lists-or-tuples-or ndarrays with different lengths or shapes) is deprecated. If you meant to do this, you must specify 'dtype=object' when creating the ndarray.\n",
      "  data = np.array([\n"
     ]
    }
   ],
   "source": [
    "data = np.array([\n",
    "    ['우유','기저귀','쥬스'],\n",
    "    ['양상추','기저귀','맥주'],\n",
    "    ['우유','양상추','기저귀','맥주'],\n",
    "    ['양상추','맥주']\n",
    "])"
   ]
  },
  {
   "cell_type": "markdown",
   "id": "f0cb82a2",
   "metadata": {},
   "source": [
    "# Apriori 알고리즘\n",
    "-> 우리가 정한 조건을 기준으로 해당하지 않는 품목들을 하나씩 제거"
   ]
  },
  {
   "cell_type": "code",
   "execution_count": 10,
   "id": "0f9ffee0",
   "metadata": {},
   "outputs": [],
   "source": [
    "from mlxtend.preprocessing import TransactionEncoder\n",
    "te = TransactionEncoder()\n",
    "te_ary = te.fit(data).transform(data)"
   ]
  },
  {
   "cell_type": "code",
   "execution_count": 13,
   "id": "4e8d4451",
   "metadata": {},
   "outputs": [
    {
     "data": {
      "text/html": [
       "<div>\n",
       "<style scoped>\n",
       "    .dataframe tbody tr th:only-of-type {\n",
       "        vertical-align: middle;\n",
       "    }\n",
       "\n",
       "    .dataframe tbody tr th {\n",
       "        vertical-align: top;\n",
       "    }\n",
       "\n",
       "    .dataframe thead th {\n",
       "        text-align: right;\n",
       "    }\n",
       "</style>\n",
       "<table border=\"1\" class=\"dataframe\">\n",
       "  <thead>\n",
       "    <tr style=\"text-align: right;\">\n",
       "      <th></th>\n",
       "      <th>기저귀</th>\n",
       "      <th>맥주</th>\n",
       "      <th>양상추</th>\n",
       "      <th>우유</th>\n",
       "      <th>쥬스</th>\n",
       "    </tr>\n",
       "  </thead>\n",
       "  <tbody>\n",
       "    <tr>\n",
       "      <th>0</th>\n",
       "      <td>True</td>\n",
       "      <td>False</td>\n",
       "      <td>False</td>\n",
       "      <td>True</td>\n",
       "      <td>True</td>\n",
       "    </tr>\n",
       "    <tr>\n",
       "      <th>1</th>\n",
       "      <td>True</td>\n",
       "      <td>True</td>\n",
       "      <td>True</td>\n",
       "      <td>False</td>\n",
       "      <td>False</td>\n",
       "    </tr>\n",
       "    <tr>\n",
       "      <th>2</th>\n",
       "      <td>True</td>\n",
       "      <td>True</td>\n",
       "      <td>True</td>\n",
       "      <td>True</td>\n",
       "      <td>False</td>\n",
       "    </tr>\n",
       "    <tr>\n",
       "      <th>3</th>\n",
       "      <td>False</td>\n",
       "      <td>True</td>\n",
       "      <td>True</td>\n",
       "      <td>False</td>\n",
       "      <td>False</td>\n",
       "    </tr>\n",
       "  </tbody>\n",
       "</table>\n",
       "</div>"
      ],
      "text/plain": [
       "     기저귀     맥주    양상추     우유     쥬스\n",
       "0   True  False  False   True   True\n",
       "1   True   True   True  False  False\n",
       "2   True   True   True   True  False\n",
       "3  False   True   True  False  False"
      ]
     },
     "execution_count": 13,
     "metadata": {},
     "output_type": "execute_result"
    }
   ],
   "source": [
    "df = pd.DataFrame(te_ary, columns=te.columns_)\n",
    "df"
   ]
  },
  {
   "cell_type": "code",
   "execution_count": 19,
   "id": "7b93bb4c",
   "metadata": {},
   "outputs": [
    {
     "name": "stdout",
     "output_type": "stream",
     "text": [
      "CPU times: user 5.12 ms, sys: 1.42 ms, total: 6.54 ms\n",
      "Wall time: 5.33 ms\n"
     ]
    },
    {
     "data": {
      "text/html": [
       "<div>\n",
       "<style scoped>\n",
       "    .dataframe tbody tr th:only-of-type {\n",
       "        vertical-align: middle;\n",
       "    }\n",
       "\n",
       "    .dataframe tbody tr th {\n",
       "        vertical-align: top;\n",
       "    }\n",
       "\n",
       "    .dataframe thead th {\n",
       "        text-align: right;\n",
       "    }\n",
       "</style>\n",
       "<table border=\"1\" class=\"dataframe\">\n",
       "  <thead>\n",
       "    <tr style=\"text-align: right;\">\n",
       "      <th></th>\n",
       "      <th>support</th>\n",
       "      <th>itemsets</th>\n",
       "    </tr>\n",
       "  </thead>\n",
       "  <tbody>\n",
       "    <tr>\n",
       "      <th>0</th>\n",
       "      <td>0.75</td>\n",
       "      <td>(기저귀)</td>\n",
       "    </tr>\n",
       "    <tr>\n",
       "      <th>1</th>\n",
       "      <td>0.75</td>\n",
       "      <td>(맥주)</td>\n",
       "    </tr>\n",
       "    <tr>\n",
       "      <th>2</th>\n",
       "      <td>0.75</td>\n",
       "      <td>(양상추)</td>\n",
       "    </tr>\n",
       "    <tr>\n",
       "      <th>3</th>\n",
       "      <td>0.50</td>\n",
       "      <td>(우유)</td>\n",
       "    </tr>\n",
       "    <tr>\n",
       "      <th>4</th>\n",
       "      <td>0.50</td>\n",
       "      <td>(맥주, 기저귀)</td>\n",
       "    </tr>\n",
       "    <tr>\n",
       "      <th>5</th>\n",
       "      <td>0.50</td>\n",
       "      <td>(양상추, 기저귀)</td>\n",
       "    </tr>\n",
       "    <tr>\n",
       "      <th>6</th>\n",
       "      <td>0.50</td>\n",
       "      <td>(우유, 기저귀)</td>\n",
       "    </tr>\n",
       "    <tr>\n",
       "      <th>7</th>\n",
       "      <td>0.75</td>\n",
       "      <td>(맥주, 양상추)</td>\n",
       "    </tr>\n",
       "    <tr>\n",
       "      <th>8</th>\n",
       "      <td>0.50</td>\n",
       "      <td>(맥주, 기저귀, 양상추)</td>\n",
       "    </tr>\n",
       "  </tbody>\n",
       "</table>\n",
       "</div>"
      ],
      "text/plain": [
       "   support        itemsets\n",
       "0     0.75           (기저귀)\n",
       "1     0.75            (맥주)\n",
       "2     0.75           (양상추)\n",
       "3     0.50            (우유)\n",
       "4     0.50       (맥주, 기저귀)\n",
       "5     0.50      (양상추, 기저귀)\n",
       "6     0.50       (우유, 기저귀)\n",
       "7     0.75       (맥주, 양상추)\n",
       "8     0.50  (맥주, 기저귀, 양상추)"
      ]
     },
     "execution_count": 19,
     "metadata": {},
     "output_type": "execute_result"
    }
   ],
   "source": [
    "%%time\n",
    "from mlxtend.frequent_patterns import apriori\n",
    "apriori(df, min_support = 0.5, use_colnames = True)"
   ]
  },
  {
   "cell_type": "markdown",
   "id": "f9b7efd0",
   "metadata": {},
   "source": [
    "# FP-Growth 알고리즘\n",
    "위 과정을 트리구조로 표현해서 시간적으로 더 효율적인 구조를 만듦 "
   ]
  },
  {
   "cell_type": "code",
   "execution_count": 20,
   "id": "f2671a03",
   "metadata": {},
   "outputs": [
    {
     "name": "stdout",
     "output_type": "stream",
     "text": [
      "CPU times: user 2.7 ms, sys: 1.32 ms, total: 4.02 ms\n",
      "Wall time: 3.23 ms\n"
     ]
    },
    {
     "data": {
      "text/html": [
       "<div>\n",
       "<style scoped>\n",
       "    .dataframe tbody tr th:only-of-type {\n",
       "        vertical-align: middle;\n",
       "    }\n",
       "\n",
       "    .dataframe tbody tr th {\n",
       "        vertical-align: top;\n",
       "    }\n",
       "\n",
       "    .dataframe thead th {\n",
       "        text-align: right;\n",
       "    }\n",
       "</style>\n",
       "<table border=\"1\" class=\"dataframe\">\n",
       "  <thead>\n",
       "    <tr style=\"text-align: right;\">\n",
       "      <th></th>\n",
       "      <th>support</th>\n",
       "      <th>itemsets</th>\n",
       "    </tr>\n",
       "  </thead>\n",
       "  <tbody>\n",
       "    <tr>\n",
       "      <th>0</th>\n",
       "      <td>0.75</td>\n",
       "      <td>(기저귀)</td>\n",
       "    </tr>\n",
       "    <tr>\n",
       "      <th>1</th>\n",
       "      <td>0.50</td>\n",
       "      <td>(우유)</td>\n",
       "    </tr>\n",
       "    <tr>\n",
       "      <th>2</th>\n",
       "      <td>0.75</td>\n",
       "      <td>(양상추)</td>\n",
       "    </tr>\n",
       "    <tr>\n",
       "      <th>3</th>\n",
       "      <td>0.75</td>\n",
       "      <td>(맥주)</td>\n",
       "    </tr>\n",
       "    <tr>\n",
       "      <th>4</th>\n",
       "      <td>0.50</td>\n",
       "      <td>(맥주, 기저귀)</td>\n",
       "    </tr>\n",
       "    <tr>\n",
       "      <th>5</th>\n",
       "      <td>0.50</td>\n",
       "      <td>(양상추, 기저귀)</td>\n",
       "    </tr>\n",
       "    <tr>\n",
       "      <th>6</th>\n",
       "      <td>0.50</td>\n",
       "      <td>(맥주, 기저귀, 양상추)</td>\n",
       "    </tr>\n",
       "    <tr>\n",
       "      <th>7</th>\n",
       "      <td>0.50</td>\n",
       "      <td>(우유, 기저귀)</td>\n",
       "    </tr>\n",
       "    <tr>\n",
       "      <th>8</th>\n",
       "      <td>0.75</td>\n",
       "      <td>(맥주, 양상추)</td>\n",
       "    </tr>\n",
       "  </tbody>\n",
       "</table>\n",
       "</div>"
      ],
      "text/plain": [
       "   support        itemsets\n",
       "0     0.75           (기저귀)\n",
       "1     0.50            (우유)\n",
       "2     0.75           (양상추)\n",
       "3     0.75            (맥주)\n",
       "4     0.50       (맥주, 기저귀)\n",
       "5     0.50      (양상추, 기저귀)\n",
       "6     0.50  (맥주, 기저귀, 양상추)\n",
       "7     0.50       (우유, 기저귀)\n",
       "8     0.75       (맥주, 양상추)"
      ]
     },
     "execution_count": 20,
     "metadata": {},
     "output_type": "execute_result"
    }
   ],
   "source": [
    "%%time\n",
    "from mlxtend.frequent_patterns import fpgrowth\n",
    "fpgrowth(df, min_support=0.5, use_colnames=True)"
   ]
  },
  {
   "cell_type": "code",
   "execution_count": null,
   "id": "83bef6d7",
   "metadata": {},
   "outputs": [],
   "source": []
  }
 ],
 "metadata": {
  "kernelspec": {
   "display_name": "Python 3 (ipykernel)",
   "language": "python",
   "name": "python3"
  },
  "language_info": {
   "codemirror_mode": {
    "name": "ipython",
    "version": 3
   },
   "file_extension": ".py",
   "mimetype": "text/x-python",
   "name": "python",
   "nbconvert_exporter": "python",
   "pygments_lexer": "ipython3",
   "version": "3.10.2"
  }
 },
 "nbformat": 4,
 "nbformat_minor": 5
}
