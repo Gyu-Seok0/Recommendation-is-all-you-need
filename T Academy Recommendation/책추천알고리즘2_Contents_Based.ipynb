{
 "cells": [
  {
   "cell_type": "code",
   "execution_count": 1,
   "id": "22ff8d0b",
   "metadata": {},
   "outputs": [],
   "source": [
    "import pandas as pd\n",
    "import numpy as np\n",
    "import plotnine \n",
    "from plotnine import *\n",
    "import os, sys, gc\n",
    "from tqdm.notebook import tqdm\n",
    "import warnings \n",
    "warnings.filterwarnings('ignore')"
   ]
  },
  {
   "cell_type": "code",
   "execution_count": 2,
   "id": "34500ef3",
   "metadata": {},
   "outputs": [],
   "source": [
    "path = \"./books/\""
   ]
  },
  {
   "cell_type": "code",
   "execution_count": 3,
   "id": "3ac4c831",
   "metadata": {},
   "outputs": [],
   "source": [
    "books = pd.read_csv(path + \"books.csv\")\n",
    "book_tags = pd.read_csv(path + \"book_tags.csv\")\n",
    "train = pd.read_csv(path + \"train.csv\")\n",
    "test = pd.read_csv(path + \"test.csv\")\n",
    "tags = pd.read_csv(path + \"tags.csv\")\n",
    "to_read = pd.read_csv(path + \"to_read.csv\")"
   ]
  },
  {
   "cell_type": "code",
   "execution_count": 4,
   "id": "6ff22bbd",
   "metadata": {},
   "outputs": [],
   "source": [
    "train['book_id'] = train['book_id'].astype(str)\n",
    "test['book_id'] = test['book_id'].astype(str)\n",
    "books['book_id'] = books['book_id'].astype(str)"
   ]
  },
  {
   "cell_type": "code",
   "execution_count": 9,
   "id": "d4b07fac",
   "metadata": {},
   "outputs": [
    {
     "name": "stdout",
     "output_type": "stream",
     "text": [
      "(477592, 2)\n"
     ]
    },
    {
     "data": {
      "text/html": [
       "<div>\n",
       "<style scoped>\n",
       "    .dataframe tbody tr th:only-of-type {\n",
       "        vertical-align: middle;\n",
       "    }\n",
       "\n",
       "    .dataframe tbody tr th {\n",
       "        vertical-align: top;\n",
       "    }\n",
       "\n",
       "    .dataframe thead th {\n",
       "        text-align: right;\n",
       "    }\n",
       "</style>\n",
       "<table border=\"1\" class=\"dataframe\">\n",
       "  <thead>\n",
       "    <tr style=\"text-align: right;\">\n",
       "      <th></th>\n",
       "      <th>user_id</th>\n",
       "      <th>book_id</th>\n",
       "    </tr>\n",
       "  </thead>\n",
       "  <tbody>\n",
       "    <tr>\n",
       "      <th>0</th>\n",
       "      <td>1</td>\n",
       "      <td>4893</td>\n",
       "    </tr>\n",
       "    <tr>\n",
       "      <th>1</th>\n",
       "      <td>2</td>\n",
       "      <td>8855</td>\n",
       "    </tr>\n",
       "    <tr>\n",
       "      <th>2</th>\n",
       "      <td>3</td>\n",
       "      <td>9049</td>\n",
       "    </tr>\n",
       "    <tr>\n",
       "      <th>3</th>\n",
       "      <td>4</td>\n",
       "      <td>3273</td>\n",
       "    </tr>\n",
       "    <tr>\n",
       "      <th>4</th>\n",
       "      <td>5</td>\n",
       "      <td>4829</td>\n",
       "    </tr>\n",
       "  </tbody>\n",
       "</table>\n",
       "</div>"
      ],
      "text/plain": [
       "   user_id book_id\n",
       "0        1    4893\n",
       "1        2    8855\n",
       "2        3    9049\n",
       "3        4    3273\n",
       "4        5    4829"
      ]
     },
     "execution_count": 9,
     "metadata": {},
     "output_type": "execute_result"
    }
   ],
   "source": [
    "print(train.shape)\n",
    "train.head()"
   ]
  },
  {
   "cell_type": "code",
   "execution_count": 10,
   "id": "a315e9f7",
   "metadata": {},
   "outputs": [
    {
     "name": "stdout",
     "output_type": "stream",
     "text": [
      "(592790, 2)\n"
     ]
    },
    {
     "data": {
      "text/html": [
       "<div>\n",
       "<style scoped>\n",
       "    .dataframe tbody tr th:only-of-type {\n",
       "        vertical-align: middle;\n",
       "    }\n",
       "\n",
       "    .dataframe tbody tr th {\n",
       "        vertical-align: top;\n",
       "    }\n",
       "\n",
       "    .dataframe thead th {\n",
       "        text-align: right;\n",
       "    }\n",
       "</style>\n",
       "<table border=\"1\" class=\"dataframe\">\n",
       "  <thead>\n",
       "    <tr style=\"text-align: right;\">\n",
       "      <th></th>\n",
       "      <th>user_id</th>\n",
       "      <th>book_id</th>\n",
       "    </tr>\n",
       "  </thead>\n",
       "  <tbody>\n",
       "    <tr>\n",
       "      <th>0</th>\n",
       "      <td>1</td>\n",
       "      <td>1180</td>\n",
       "    </tr>\n",
       "    <tr>\n",
       "      <th>1</th>\n",
       "      <td>1</td>\n",
       "      <td>6285</td>\n",
       "    </tr>\n",
       "    <tr>\n",
       "      <th>2</th>\n",
       "      <td>2</td>\n",
       "      <td>8034</td>\n",
       "    </tr>\n",
       "    <tr>\n",
       "      <th>3</th>\n",
       "      <td>2</td>\n",
       "      <td>9762</td>\n",
       "    </tr>\n",
       "    <tr>\n",
       "      <th>4</th>\n",
       "      <td>3</td>\n",
       "      <td>9014</td>\n",
       "    </tr>\n",
       "  </tbody>\n",
       "</table>\n",
       "</div>"
      ],
      "text/plain": [
       "   user_id book_id\n",
       "0        1    1180\n",
       "1        1    6285\n",
       "2        2    8034\n",
       "3        2    9762\n",
       "4        3    9014"
      ]
     },
     "execution_count": 10,
     "metadata": {},
     "output_type": "execute_result"
    }
   ],
   "source": [
    "print(test.shape)\n",
    "test.head()"
   ]
  },
  {
   "cell_type": "code",
   "execution_count": 12,
   "id": "61a51b01",
   "metadata": {},
   "outputs": [
    {
     "name": "stdout",
     "output_type": "stream",
     "text": [
      "(10000, 23)\n"
     ]
    },
    {
     "data": {
      "text/html": [
       "<div>\n",
       "<style scoped>\n",
       "    .dataframe tbody tr th:only-of-type {\n",
       "        vertical-align: middle;\n",
       "    }\n",
       "\n",
       "    .dataframe tbody tr th {\n",
       "        vertical-align: top;\n",
       "    }\n",
       "\n",
       "    .dataframe thead th {\n",
       "        text-align: right;\n",
       "    }\n",
       "</style>\n",
       "<table border=\"1\" class=\"dataframe\">\n",
       "  <thead>\n",
       "    <tr style=\"text-align: right;\">\n",
       "      <th></th>\n",
       "      <th>id</th>\n",
       "      <th>book_id</th>\n",
       "      <th>best_book_id</th>\n",
       "      <th>work_id</th>\n",
       "      <th>books_count</th>\n",
       "      <th>isbn</th>\n",
       "      <th>isbn13</th>\n",
       "      <th>authors</th>\n",
       "      <th>original_publication_year</th>\n",
       "      <th>original_title</th>\n",
       "      <th>...</th>\n",
       "      <th>ratings_count</th>\n",
       "      <th>work_ratings_count</th>\n",
       "      <th>work_text_reviews_count</th>\n",
       "      <th>ratings_1</th>\n",
       "      <th>ratings_2</th>\n",
       "      <th>ratings_3</th>\n",
       "      <th>ratings_4</th>\n",
       "      <th>ratings_5</th>\n",
       "      <th>image_url</th>\n",
       "      <th>small_image_url</th>\n",
       "    </tr>\n",
       "  </thead>\n",
       "  <tbody>\n",
       "    <tr>\n",
       "      <th>0</th>\n",
       "      <td>1</td>\n",
       "      <td>2767052</td>\n",
       "      <td>2767052</td>\n",
       "      <td>2792775</td>\n",
       "      <td>272</td>\n",
       "      <td>439023483</td>\n",
       "      <td>9.780439e+12</td>\n",
       "      <td>Suzanne Collins</td>\n",
       "      <td>2008.0</td>\n",
       "      <td>The Hunger Games</td>\n",
       "      <td>...</td>\n",
       "      <td>4780653</td>\n",
       "      <td>4942365</td>\n",
       "      <td>155254</td>\n",
       "      <td>66715</td>\n",
       "      <td>127936</td>\n",
       "      <td>560092</td>\n",
       "      <td>1481305</td>\n",
       "      <td>2706317</td>\n",
       "      <td>https://images.gr-assets.com/books/1447303603m...</td>\n",
       "      <td>https://images.gr-assets.com/books/1447303603s...</td>\n",
       "    </tr>\n",
       "    <tr>\n",
       "      <th>1</th>\n",
       "      <td>2</td>\n",
       "      <td>3</td>\n",
       "      <td>3</td>\n",
       "      <td>4640799</td>\n",
       "      <td>491</td>\n",
       "      <td>439554934</td>\n",
       "      <td>9.780440e+12</td>\n",
       "      <td>J.K. Rowling, Mary GrandPré</td>\n",
       "      <td>1997.0</td>\n",
       "      <td>Harry Potter and the Philosopher's Stone</td>\n",
       "      <td>...</td>\n",
       "      <td>4602479</td>\n",
       "      <td>4800065</td>\n",
       "      <td>75867</td>\n",
       "      <td>75504</td>\n",
       "      <td>101676</td>\n",
       "      <td>455024</td>\n",
       "      <td>1156318</td>\n",
       "      <td>3011543</td>\n",
       "      <td>https://images.gr-assets.com/books/1474154022m...</td>\n",
       "      <td>https://images.gr-assets.com/books/1474154022s...</td>\n",
       "    </tr>\n",
       "    <tr>\n",
       "      <th>2</th>\n",
       "      <td>3</td>\n",
       "      <td>41865</td>\n",
       "      <td>41865</td>\n",
       "      <td>3212258</td>\n",
       "      <td>226</td>\n",
       "      <td>316015849</td>\n",
       "      <td>9.780316e+12</td>\n",
       "      <td>Stephenie Meyer</td>\n",
       "      <td>2005.0</td>\n",
       "      <td>Twilight</td>\n",
       "      <td>...</td>\n",
       "      <td>3866839</td>\n",
       "      <td>3916824</td>\n",
       "      <td>95009</td>\n",
       "      <td>456191</td>\n",
       "      <td>436802</td>\n",
       "      <td>793319</td>\n",
       "      <td>875073</td>\n",
       "      <td>1355439</td>\n",
       "      <td>https://images.gr-assets.com/books/1361039443m...</td>\n",
       "      <td>https://images.gr-assets.com/books/1361039443s...</td>\n",
       "    </tr>\n",
       "    <tr>\n",
       "      <th>3</th>\n",
       "      <td>4</td>\n",
       "      <td>2657</td>\n",
       "      <td>2657</td>\n",
       "      <td>3275794</td>\n",
       "      <td>487</td>\n",
       "      <td>61120081</td>\n",
       "      <td>9.780061e+12</td>\n",
       "      <td>Harper Lee</td>\n",
       "      <td>1960.0</td>\n",
       "      <td>To Kill a Mockingbird</td>\n",
       "      <td>...</td>\n",
       "      <td>3198671</td>\n",
       "      <td>3340896</td>\n",
       "      <td>72586</td>\n",
       "      <td>60427</td>\n",
       "      <td>117415</td>\n",
       "      <td>446835</td>\n",
       "      <td>1001952</td>\n",
       "      <td>1714267</td>\n",
       "      <td>https://images.gr-assets.com/books/1361975680m...</td>\n",
       "      <td>https://images.gr-assets.com/books/1361975680s...</td>\n",
       "    </tr>\n",
       "    <tr>\n",
       "      <th>4</th>\n",
       "      <td>5</td>\n",
       "      <td>4671</td>\n",
       "      <td>4671</td>\n",
       "      <td>245494</td>\n",
       "      <td>1356</td>\n",
       "      <td>743273567</td>\n",
       "      <td>9.780743e+12</td>\n",
       "      <td>F. Scott Fitzgerald</td>\n",
       "      <td>1925.0</td>\n",
       "      <td>The Great Gatsby</td>\n",
       "      <td>...</td>\n",
       "      <td>2683664</td>\n",
       "      <td>2773745</td>\n",
       "      <td>51992</td>\n",
       "      <td>86236</td>\n",
       "      <td>197621</td>\n",
       "      <td>606158</td>\n",
       "      <td>936012</td>\n",
       "      <td>947718</td>\n",
       "      <td>https://images.gr-assets.com/books/1490528560m...</td>\n",
       "      <td>https://images.gr-assets.com/books/1490528560s...</td>\n",
       "    </tr>\n",
       "  </tbody>\n",
       "</table>\n",
       "<p>5 rows × 23 columns</p>\n",
       "</div>"
      ],
      "text/plain": [
       "   id  book_id  best_book_id  work_id  books_count       isbn        isbn13  \\\n",
       "0   1  2767052       2767052  2792775          272  439023483  9.780439e+12   \n",
       "1   2        3             3  4640799          491  439554934  9.780440e+12   \n",
       "2   3    41865         41865  3212258          226  316015849  9.780316e+12   \n",
       "3   4     2657          2657  3275794          487   61120081  9.780061e+12   \n",
       "4   5     4671          4671   245494         1356  743273567  9.780743e+12   \n",
       "\n",
       "                       authors  original_publication_year  \\\n",
       "0              Suzanne Collins                     2008.0   \n",
       "1  J.K. Rowling, Mary GrandPré                     1997.0   \n",
       "2              Stephenie Meyer                     2005.0   \n",
       "3                   Harper Lee                     1960.0   \n",
       "4          F. Scott Fitzgerald                     1925.0   \n",
       "\n",
       "                             original_title  ... ratings_count  \\\n",
       "0                          The Hunger Games  ...       4780653   \n",
       "1  Harry Potter and the Philosopher's Stone  ...       4602479   \n",
       "2                                  Twilight  ...       3866839   \n",
       "3                     To Kill a Mockingbird  ...       3198671   \n",
       "4                          The Great Gatsby  ...       2683664   \n",
       "\n",
       "  work_ratings_count  work_text_reviews_count  ratings_1  ratings_2  \\\n",
       "0            4942365                   155254      66715     127936   \n",
       "1            4800065                    75867      75504     101676   \n",
       "2            3916824                    95009     456191     436802   \n",
       "3            3340896                    72586      60427     117415   \n",
       "4            2773745                    51992      86236     197621   \n",
       "\n",
       "   ratings_3  ratings_4  ratings_5  \\\n",
       "0     560092    1481305    2706317   \n",
       "1     455024    1156318    3011543   \n",
       "2     793319     875073    1355439   \n",
       "3     446835    1001952    1714267   \n",
       "4     606158     936012     947718   \n",
       "\n",
       "                                           image_url  \\\n",
       "0  https://images.gr-assets.com/books/1447303603m...   \n",
       "1  https://images.gr-assets.com/books/1474154022m...   \n",
       "2  https://images.gr-assets.com/books/1361039443m...   \n",
       "3  https://images.gr-assets.com/books/1361975680m...   \n",
       "4  https://images.gr-assets.com/books/1490528560m...   \n",
       "\n",
       "                                     small_image_url  \n",
       "0  https://images.gr-assets.com/books/1447303603s...  \n",
       "1  https://images.gr-assets.com/books/1474154022s...  \n",
       "2  https://images.gr-assets.com/books/1361039443s...  \n",
       "3  https://images.gr-assets.com/books/1361975680s...  \n",
       "4  https://images.gr-assets.com/books/1490528560s...  \n",
       "\n",
       "[5 rows x 23 columns]"
      ]
     },
     "execution_count": 12,
     "metadata": {},
     "output_type": "execute_result"
    }
   ],
   "source": [
    "print(books.shape)\n",
    "books.head()"
   ]
  },
  {
   "cell_type": "code",
   "execution_count": 15,
   "id": "4ebd0d5b",
   "metadata": {},
   "outputs": [
    {
     "data": {
      "text/plain": [
       "(500,)"
      ]
     },
     "execution_count": 15,
     "metadata": {},
     "output_type": "execute_result"
    }
   ],
   "source": [
    "# 상위 500개의 도서목록\n",
    "popular_rec_model = books.sort_values(by='books_count', ascending=False)['book_id'].values[0:500]\n",
    "popular_rec_model.shape"
   ]
  },
  {
   "cell_type": "code",
   "execution_count": 26,
   "id": "1fe2bb77",
   "metadata": {},
   "outputs": [
    {
     "data": {
      "text/plain": [
       "53424"
      ]
     },
     "execution_count": 26,
     "metadata": {},
     "output_type": "execute_result"
    }
   ],
   "source": [
    "sol = test.groupby(['user_id'])['book_id'].agg({'unique'}).reset_index()\n",
    "gt = {}\n",
    "#for user in tqdm(sol['user_id'].unique()): \n",
    "    #gt[user] = list(sol[sol['user_id'] == user]['unique'].values[0])\n",
    "    \n",
    "len(sol)\n"
   ]
  },
  {
   "cell_type": "code",
   "execution_count": 27,
   "id": "938a4d45",
   "metadata": {},
   "outputs": [],
   "source": [
    "for idx in range(len(sol)):\n",
    "    gt[sol['user_id'][idx]] = sol['unique'][idx].tolist()"
   ]
  },
  {
   "cell_type": "code",
   "execution_count": 30,
   "id": "561eec34",
   "metadata": {},
   "outputs": [
    {
     "data": {
      "text/html": [
       "<div>\n",
       "<style scoped>\n",
       "    .dataframe tbody tr th:only-of-type {\n",
       "        vertical-align: middle;\n",
       "    }\n",
       "\n",
       "    .dataframe tbody tr th {\n",
       "        vertical-align: top;\n",
       "    }\n",
       "\n",
       "    .dataframe thead th {\n",
       "        text-align: right;\n",
       "    }\n",
       "</style>\n",
       "<table border=\"1\" class=\"dataframe\">\n",
       "  <thead>\n",
       "    <tr style=\"text-align: right;\">\n",
       "      <th></th>\n",
       "      <th>user_id</th>\n",
       "    </tr>\n",
       "  </thead>\n",
       "  <tbody>\n",
       "    <tr>\n",
       "      <th>0</th>\n",
       "      <td>1</td>\n",
       "    </tr>\n",
       "    <tr>\n",
       "      <th>1</th>\n",
       "      <td>2</td>\n",
       "    </tr>\n",
       "    <tr>\n",
       "      <th>2</th>\n",
       "      <td>3</td>\n",
       "    </tr>\n",
       "    <tr>\n",
       "      <th>3</th>\n",
       "      <td>4</td>\n",
       "    </tr>\n",
       "    <tr>\n",
       "      <th>4</th>\n",
       "      <td>5</td>\n",
       "    </tr>\n",
       "    <tr>\n",
       "      <th>...</th>\n",
       "      <td>...</td>\n",
       "    </tr>\n",
       "    <tr>\n",
       "      <th>53377</th>\n",
       "      <td>53420</td>\n",
       "    </tr>\n",
       "    <tr>\n",
       "      <th>53378</th>\n",
       "      <td>53421</td>\n",
       "    </tr>\n",
       "    <tr>\n",
       "      <th>53379</th>\n",
       "      <td>53422</td>\n",
       "    </tr>\n",
       "    <tr>\n",
       "      <th>53380</th>\n",
       "      <td>53423</td>\n",
       "    </tr>\n",
       "    <tr>\n",
       "      <th>53381</th>\n",
       "      <td>53424</td>\n",
       "    </tr>\n",
       "  </tbody>\n",
       "</table>\n",
       "<p>53382 rows × 1 columns</p>\n",
       "</div>"
      ],
      "text/plain": [
       "       user_id\n",
       "0            1\n",
       "1            2\n",
       "2            3\n",
       "3            4\n",
       "4            5\n",
       "...        ...\n",
       "53377    53420\n",
       "53378    53421\n",
       "53379    53422\n",
       "53380    53423\n",
       "53381    53424\n",
       "\n",
       "[53382 rows x 1 columns]"
      ]
     },
     "execution_count": 30,
     "metadata": {},
     "output_type": "execute_result"
    }
   ],
   "source": [
    "rec_df = pd.DataFrame()\n",
    "rec_df['user_id'] = train['user_id'].unique()\n",
    "rec_df"
   ]
  },
  {
   "cell_type": "markdown",
   "id": "b0af0ebc",
   "metadata": {},
   "source": [
    "# TF-IDF를 이용한 contents-based model\n",
    "\n",
    "-> TF-IDF가 자연어모델 -> 타이틀을 구성하는 단어들을 토대로 벡터들간의 유사도를 측정해서 아이템을 추천하자."
   ]
  },
  {
   "cell_type": "code",
   "execution_count": 31,
   "id": "d8252a85",
   "metadata": {},
   "outputs": [
    {
     "name": "stdout",
     "output_type": "stream",
     "text": [
      "(10000, 9019)\n"
     ]
    }
   ],
   "source": [
    "from sklearn.feature_extraction.text import TfidfVectorizer\n",
    "\n",
    "tfidf = TfidfVectorizer(stop_words='english')\n",
    "tfidf_matrix = tfidf.fit_transform(books['title'])\n",
    "print(tfidf_matrix.shape)"
   ]
  },
  {
   "cell_type": "code",
   "execution_count": 36,
   "id": "b22534fd",
   "metadata": {},
   "outputs": [
    {
     "data": {
      "text/plain": [
       "(10000, 10000)"
      ]
     },
     "execution_count": 36,
     "metadata": {},
     "output_type": "execute_result"
    }
   ],
   "source": [
    "from sklearn.metrics.pairwise import cosine_similarity\n",
    "cosine_matrix = cosine_similarity(tfidf_matrix, tfidf_matrix)\n",
    "cosine_matrix.shape"
   ]
  },
  {
   "cell_type": "code",
   "execution_count": 37,
   "id": "e8bfd599",
   "metadata": {},
   "outputs": [
    {
     "data": {
      "text/plain": [
       "array([[1., 0., 0., ..., 0., 0., 0.],\n",
       "       [0., 1., 0., ..., 0., 0., 0.],\n",
       "       [0., 0., 1., ..., 0., 0., 0.],\n",
       "       ...,\n",
       "       [0., 0., 0., ..., 1., 0., 0.],\n",
       "       [0., 0., 0., ..., 0., 1., 0.],\n",
       "       [0., 0., 0., ..., 0., 0., 1.]])"
      ]
     },
     "execution_count": 37,
     "metadata": {},
     "output_type": "execute_result"
    }
   ],
   "source": [
    "cosine_matrix"
   ]
  },
  {
   "cell_type": "code",
   "execution_count": 39,
   "id": "c5adc5ef",
   "metadata": {},
   "outputs": [],
   "source": [
    "# book title와 id를 매핑할 dictionary를 생성해줍니다. \n",
    "book2id = {}\n",
    "for i, c in enumerate(books['title']): book2id[i] = c\n",
    "\n",
    "# id와 book title를 매핑할 dictionary를 생성해줍니다. \n",
    "id2book = {}\n",
    "for i, c in book2id.items(): id2book[c] = i\n",
    "    \n",
    "# book_id와 title를 매핑할 dictionary를 생성해줍니다.\n",
    "bookid2book = {}\n",
    "for i, j in zip(books['title'].values, books['book_id'].values):\n",
    "    bookid2book[i] = j"
   ]
  },
  {
   "cell_type": "code",
   "execution_count": 56,
   "id": "11984ecb",
   "metadata": {},
   "outputs": [
    {
     "data": {
      "text/plain": [
       "[('The Twilight Saga (Twilight, #1-4)', 0.920347418277986),\n",
       " ('The Twilight Collection (Twilight, #1-3)', 0.8786339079447184),\n",
       " ('The Twilight Saga Complete Collection  (Twilight, #1-4 + 3.5)',\n",
       "  0.7697532056304309),\n",
       " ('Twilight and History', 0.7465001575650626),\n",
       " ('The Twilight Saga: The Official Illustrated Guide (Twilight, #4.5)',\n",
       "  0.7045174300631831),\n",
       " ('Twilight Eyes', 0.6770737331426326),\n",
       " ('Twilight (The Mediator, #6)', 0.6377631333498953),\n",
       " ('New Moon (Twilight, #2)', 0.6185575138625542),\n",
       " ('Eclipse (Twilight, #3)', 0.612819563854136),\n",
       " ('The Servants of Twilight', 0.5837817298466093)]"
      ]
     },
     "execution_count": 56,
     "metadata": {},
     "output_type": "execute_result"
    }
   ],
   "source": [
    "idx = id2book['Twilight (Twilight, #1)']  \n",
    "sim_scores = [(book2id[index], value) for index,value in enumerate(cosine_matrix[idx]) if idx != index]\n",
    "sim_scores.sort(key = lambda x: x[1], reverse = True)\n",
    "sim_scores[:10]"
   ]
  },
  {
   "cell_type": "markdown",
   "id": "e6616c54",
   "metadata": {},
   "source": [
    "# 이번에는 다른 방식으로 진행.\n",
    "0. 학습셋에서 제목이 있는 경우에 대해서만 진행\n",
    "1. 각 유저별로 읽은 책의 목록을 수집 \n",
    "2. 읽은 책과 유사한 책 추출 \n",
    "3. 모든 책에 대해서 유사도를 더한 값을 계산 \n",
    "4. 3에서 유사도가 가장 높은 순서대로 추출 "
   ]
  },
  {
   "cell_type": "code",
   "execution_count": 57,
   "id": "7702b64c",
   "metadata": {},
   "outputs": [
    {
     "data": {
      "text/html": [
       "<div>\n",
       "<style scoped>\n",
       "    .dataframe tbody tr th:only-of-type {\n",
       "        vertical-align: middle;\n",
       "    }\n",
       "\n",
       "    .dataframe tbody tr th {\n",
       "        vertical-align: top;\n",
       "    }\n",
       "\n",
       "    .dataframe thead th {\n",
       "        text-align: right;\n",
       "    }\n",
       "</style>\n",
       "<table border=\"1\" class=\"dataframe\">\n",
       "  <thead>\n",
       "    <tr style=\"text-align: right;\">\n",
       "      <th></th>\n",
       "      <th>user_id</th>\n",
       "      <th>book_id</th>\n",
       "      <th>title</th>\n",
       "    </tr>\n",
       "  </thead>\n",
       "  <tbody>\n",
       "    <tr>\n",
       "      <th>0</th>\n",
       "      <td>1</td>\n",
       "      <td>4893</td>\n",
       "      <td>NaN</td>\n",
       "    </tr>\n",
       "    <tr>\n",
       "      <th>1</th>\n",
       "      <td>2</td>\n",
       "      <td>8855</td>\n",
       "      <td>NaN</td>\n",
       "    </tr>\n",
       "    <tr>\n",
       "      <th>2</th>\n",
       "      <td>3</td>\n",
       "      <td>9049</td>\n",
       "      <td>NaN</td>\n",
       "    </tr>\n",
       "    <tr>\n",
       "      <th>3</th>\n",
       "      <td>4</td>\n",
       "      <td>3273</td>\n",
       "      <td>Moloka'i</td>\n",
       "    </tr>\n",
       "    <tr>\n",
       "      <th>4</th>\n",
       "      <td>5</td>\n",
       "      <td>4829</td>\n",
       "      <td>NaN</td>\n",
       "    </tr>\n",
       "  </tbody>\n",
       "</table>\n",
       "</div>"
      ],
      "text/plain": [
       "   user_id book_id     title\n",
       "0        1    4893       NaN\n",
       "1        2    8855       NaN\n",
       "2        3    9049       NaN\n",
       "3        4    3273  Moloka'i\n",
       "4        5    4829       NaN"
      ]
     },
     "execution_count": 57,
     "metadata": {},
     "output_type": "execute_result"
    }
   ],
   "source": [
    "train = pd.merge(train, books[['book_id', 'title']], how='left', on='book_id')\n",
    "train.head()"
   ]
  },
  {
   "cell_type": "code",
   "execution_count": 62,
   "id": "f7ac330d",
   "metadata": {},
   "outputs": [
    {
     "data": {
      "text/html": [
       "<div>\n",
       "<style scoped>\n",
       "    .dataframe tbody tr th:only-of-type {\n",
       "        vertical-align: middle;\n",
       "    }\n",
       "\n",
       "    .dataframe tbody tr th {\n",
       "        vertical-align: top;\n",
       "    }\n",
       "\n",
       "    .dataframe thead th {\n",
       "        text-align: right;\n",
       "    }\n",
       "</style>\n",
       "<table border=\"1\" class=\"dataframe\">\n",
       "  <thead>\n",
       "    <tr style=\"text-align: right;\">\n",
       "      <th></th>\n",
       "      <th>user_id</th>\n",
       "      <th>book_id</th>\n",
       "      <th>title</th>\n",
       "      <th>idx2title</th>\n",
       "    </tr>\n",
       "  </thead>\n",
       "  <tbody>\n",
       "    <tr>\n",
       "      <th>0</th>\n",
       "      <td>4</td>\n",
       "      <td>3273</td>\n",
       "      <td>Moloka'i</td>\n",
       "      <td>1215</td>\n",
       "    </tr>\n",
       "    <tr>\n",
       "      <th>1</th>\n",
       "      <td>7</td>\n",
       "      <td>4138</td>\n",
       "      <td>Naked</td>\n",
       "      <td>343</td>\n",
       "    </tr>\n",
       "    <tr>\n",
       "      <th>2</th>\n",
       "      <td>7</td>\n",
       "      <td>4588</td>\n",
       "      <td>Extremely Loud and Incredibly Close</td>\n",
       "      <td>248</td>\n",
       "    </tr>\n",
       "    <tr>\n",
       "      <th>3</th>\n",
       "      <td>9</td>\n",
       "      <td>8676</td>\n",
       "      <td>Unlimited Power : The New Science Of Personal ...</td>\n",
       "      <td>4701</td>\n",
       "    </tr>\n",
       "    <tr>\n",
       "      <th>4</th>\n",
       "      <td>10</td>\n",
       "      <td>5907</td>\n",
       "      <td>The Hobbit</td>\n",
       "      <td>6</td>\n",
       "    </tr>\n",
       "  </tbody>\n",
       "</table>\n",
       "</div>"
      ],
      "text/plain": [
       "   user_id book_id                                              title  \\\n",
       "0        4    3273                                           Moloka'i   \n",
       "1        7    4138                                              Naked   \n",
       "2        7    4588                Extremely Loud and Incredibly Close   \n",
       "3        9    8676  Unlimited Power : The New Science Of Personal ...   \n",
       "4       10    5907                                         The Hobbit   \n",
       "\n",
       "   idx2title  \n",
       "0       1215  \n",
       "1        343  \n",
       "2        248  \n",
       "3       4701  \n",
       "4          6  "
      ]
     },
     "execution_count": 62,
     "metadata": {},
     "output_type": "execute_result"
    }
   ],
   "source": [
    "# 0. 학습셋에서 제목이 있는 경우에 대해서만 진행\n",
    "tf_train = train[train[\"title\"].notnull()].reset_index(drop = True)\n",
    "tf_train[\"idx2title\"] = tf_train[\"title\"].apply(lambda x: id2book[x])\n",
    "tf_train.head()"
   ]
  },
  {
   "cell_type": "code",
   "execution_count": 65,
   "id": "74db6f49",
   "metadata": {},
   "outputs": [],
   "source": [
    "#key = idx2title, value = book_id\n",
    "idx2title2book = {}\n",
    "for i,j in zip(tf_train[\"idx2title\"].values, tf_train[\"book_id\"].values):\n",
    "    idx2title2book[i] = j"
   ]
  },
  {
   "cell_type": "code",
   "execution_count": 83,
   "id": "8567ef4b",
   "metadata": {},
   "outputs": [
    {
     "data": {
      "text/html": [
       "<div>\n",
       "<style scoped>\n",
       "    .dataframe tbody tr th:only-of-type {\n",
       "        vertical-align: middle;\n",
       "    }\n",
       "\n",
       "    .dataframe tbody tr th {\n",
       "        vertical-align: top;\n",
       "    }\n",
       "\n",
       "    .dataframe thead th {\n",
       "        text-align: right;\n",
       "    }\n",
       "</style>\n",
       "<table border=\"1\" class=\"dataframe\">\n",
       "  <thead>\n",
       "    <tr style=\"text-align: right;\">\n",
       "      <th></th>\n",
       "      <th>user_id</th>\n",
       "      <th>unique</th>\n",
       "    </tr>\n",
       "  </thead>\n",
       "  <tbody>\n",
       "    <tr>\n",
       "      <th>0</th>\n",
       "      <td>4</td>\n",
       "      <td>[1215]</td>\n",
       "    </tr>\n",
       "    <tr>\n",
       "      <th>1</th>\n",
       "      <td>7</td>\n",
       "      <td>[343, 248]</td>\n",
       "    </tr>\n",
       "    <tr>\n",
       "      <th>2</th>\n",
       "      <td>9</td>\n",
       "      <td>[4701]</td>\n",
       "    </tr>\n",
       "    <tr>\n",
       "      <th>3</th>\n",
       "      <td>10</td>\n",
       "      <td>[6, 1440]</td>\n",
       "    </tr>\n",
       "    <tr>\n",
       "      <th>4</th>\n",
       "      <td>14</td>\n",
       "      <td>[120]</td>\n",
       "    </tr>\n",
       "  </tbody>\n",
       "</table>\n",
       "</div>"
      ],
      "text/plain": [
       "   user_id      unique\n",
       "0        4      [1215]\n",
       "1        7  [343, 248]\n",
       "2        9      [4701]\n",
       "3       10   [6, 1440]\n",
       "4       14       [120]"
      ]
     },
     "execution_count": 83,
     "metadata": {},
     "output_type": "execute_result"
    }
   ],
   "source": [
    "# 1. 각 유저별로 읽은 책의 목록을 수집 \n",
    "user = 7 # id가 7인 유저가 본 목록은?\n",
    "read_list = tf_train.groupby(['user_id'])[\"idx2title\"].agg({\"unique\"}).reset_index()\n",
    "read_list.head()"
   ]
  },
  {
   "cell_type": "code",
   "execution_count": 98,
   "id": "a36ee6ae",
   "metadata": {},
   "outputs": [
    {
     "name": "stdout",
     "output_type": "stream",
     "text": [
      "Naked\n",
      "Extremely Loud and Incredibly Close\n"
     ]
    }
   ],
   "source": [
    "seen = read_list[read_list[\"user_id\"] == 7][\"unique\"].values[0]\n",
    "for saw in seen:\n",
    "    print(book2id[saw])"
   ]
  },
  {
   "cell_type": "code",
   "execution_count": 90,
   "id": "d1fd4224",
   "metadata": {},
   "outputs": [],
   "source": [
    "# 2. 읽은 책과 유사한 책 추출\n",
    "total_cosine_sim = np.zeros(len(book2id))\n",
    "for book_ in seen:\n",
    "     # 3. 모든 책에 대해서 유사도를 더한 값을 계산 \n",
    "    # 343번째 책과 248의 유사도가 모두 결합된 유사도\n",
    "    total_cosine_sim += cosine_matrix[book_]"
   ]
  },
  {
   "cell_type": "code",
   "execution_count": 91,
   "id": "af668dca",
   "metadata": {},
   "outputs": [
    {
     "data": {
      "text/plain": [
       "array([0., 0., 0., ..., 0., 0., 0.])"
      ]
     },
     "execution_count": 91,
     "metadata": {},
     "output_type": "execute_result"
    }
   ],
   "source": [
    "total_cosine_sim"
   ]
  },
  {
   "cell_type": "code",
   "execution_count": 96,
   "id": "fb0d6b2d",
   "metadata": {},
   "outputs": [
    {
     "data": {
      "text/plain": [
       "[('The Naked and the Dead', 0.793036327171204),\n",
       " ('The Naked Face', 0.6915730356677104),\n",
       " ('Juliet, Naked', 0.6607508855409738),\n",
       " ('Naked Lunch', 0.6390974315343301),\n",
       " (\"The Naked God (Night's Dawn, #3)\", 0.5820260477746269),\n",
       " ('The Naked Sun (Robot #2)', 0.5722074713852562),\n",
       " ('Naked in Death (In Death, #1)', 0.569400924005893),\n",
       " ('Naked (The Blackstone Affair, #1)', 0.5440917692510238),\n",
       " ('Naked Empire (Sword of Truth, #8)', 0.5403329094870779),\n",
       " ('Naked Heat (Nikki Heat, #2)', 0.3935969471434931)]"
      ]
     },
     "execution_count": 96,
     "metadata": {},
     "output_type": "execute_result"
    }
   ],
   "source": [
    "# 4. 3에서 유사도가 가장 높은 순서대로 추출\n",
    "sim_scores = [(book2id[i],c) for i,c in enumerate(total_cosine_sim) if i not in seen]\n",
    "sim_scores.sort(key = lambda x: x[1], reverse = True)\n",
    "sim_scores[:10]\n"
   ]
  },
  {
   "cell_type": "code",
   "execution_count": 99,
   "id": "4dab524b",
   "metadata": {},
   "outputs": [
    {
     "data": {
      "application/vnd.jupyter.widget-view+json": {
       "model_id": "adb9a68df8d94f039628de319ea22a0f",
       "version_major": 2,
       "version_minor": 0
      },
      "text/plain": [
       "  0%|          | 0/53382 [00:00<?, ?it/s]"
      ]
     },
     "metadata": {},
     "output_type": "display_data"
    },
    {
     "ename": "KeyboardInterrupt",
     "evalue": "",
     "output_type": "error",
     "traceback": [
      "\u001b[0;31m---------------------------------------------------------------------------\u001b[0m",
      "\u001b[0;31mKeyboardInterrupt\u001b[0m                         Traceback (most recent call last)",
      "Input \u001b[0;32mIn [99]\u001b[0m, in \u001b[0;36m<module>\u001b[0;34m\u001b[0m\n\u001b[1;32m     32\u001b[0m     \u001b[38;5;28;01mfor\u001b[39;00m rec \u001b[38;5;129;01min\u001b[39;00m popular_rec_model[\u001b[38;5;241m0\u001b[39m:\u001b[38;5;241m400\u001b[39m]:\n\u001b[1;32m     33\u001b[0m         \u001b[38;5;28;01mif\u001b[39;00m rec \u001b[38;5;129;01mnot\u001b[39;00m \u001b[38;5;129;01min\u001b[39;00m seen:\n\u001b[0;32m---> 34\u001b[0m             \u001b[43mrec_list\u001b[49m\u001b[38;5;241;43m.\u001b[39;49m\u001b[43mappend\u001b[49m\u001b[43m(\u001b[49m\u001b[43mrec\u001b[49m\u001b[43m)\u001b[49m\n\u001b[1;32m     36\u001b[0m total_rec_list[user] \u001b[38;5;241m=\u001b[39m rec_list[\u001b[38;5;241m0\u001b[39m:\u001b[38;5;241m200\u001b[39m]\n",
      "\u001b[0;31mKeyboardInterrupt\u001b[0m: "
     ]
    }
   ],
   "source": [
    "# 전체영화에 대해서 진행\n",
    "## 전체 영화에 대해서 진행 \n",
    "total_rec_list = {}\n",
    "\n",
    "read_list1 = train.groupby(['user_id'])['book_id'].agg({'unique'}).reset_index()\n",
    "read_list2 = tf_train.groupby(['user_id'])['idx2title'].agg({'unique'}).reset_index()\n",
    "\n",
    "for user in tqdm(train['user_id'].unique()):\n",
    "    rec_list = []\n",
    "        \n",
    "    # 만약 TF-IDF 소속의 추천대상이라면 Contents 기반의 추천 \n",
    "    if user in tf_train['user_id'].unique():\n",
    "        # 1. 각 유저별로 읽은 책의 목록을 수집 \n",
    "        seen = read_list2[read_list2['user_id'] == user]['unique'].values[0]\n",
    "        # 2. 읽은 책과 유사한 책 추출 \n",
    "        total_cosine_sim = np.zeros(len(book2id))\n",
    "        for book_ in seen: \n",
    "            # 3. 모든 책에 대해서 유사도를 더한 값을 계산 \n",
    "            # 343번째 책과 248의 유사도가 모두 결합된 유사도\n",
    "            total_cosine_sim += cosine_matrix[book_]\n",
    "            \n",
    "        # 4. 3에서 유사도가 가장 높은 순서대로 추출\n",
    "        sim_scores = [(bookid2book[book2id[i]], c) for i, c in enumerate(total_cosine_sim) if i not in seen] # 자기 자신을 제외한 영화들의 유사도 및 인덱스를 추출 \n",
    "        recs = sorted(sim_scores, key = lambda x: x[1], reverse=True)[0:300] # 유사도가 높은 순서대로 정렬 \n",
    "        for rec in recs: \n",
    "            if rec not in seen:\n",
    "                rec_list.append(rec)   \n",
    "        \n",
    "    # 그렇지 않으면 인기도 기반의 추천 \n",
    "    else: \n",
    "        seen = read_list1[read_list1['user_id'] == user]['unique'].values[0]\n",
    "        for rec in popular_rec_model[0:400]:\n",
    "            if rec not in seen:\n",
    "                rec_list.append(rec)\n",
    "                \n",
    "    total_rec_list[user] = rec_list[0:200]"
   ]
  },
  {
   "cell_type": "code",
   "execution_count": null,
   "id": "e0e604e3",
   "metadata": {},
   "outputs": [],
   "source": [
    "import six\n",
    "import math\n",
    "\n",
    "# https://github.com/kakao-arena/brunch-article-recommendation/blob/master/evaluate.py\n",
    "\n",
    "class evaluate():\n",
    "    def __init__(self, recs, gt, topn=100):\n",
    "        self.recs = recs\n",
    "        self.gt = gt \n",
    "        self.topn = topn \n",
    "        \n",
    "    def _ndcg(self):\n",
    "        Q, S = 0.0, 0.0\n",
    "        for u, seen in six.iteritems(self.gt):\n",
    "            seen = list(set(seen))\n",
    "            rec = self.recs.get(u, [])\n",
    "            if not rec or len(seen) == 0:\n",
    "                continue\n",
    "\n",
    "            dcg = 0.0\n",
    "            idcg = sum([1.0 / math.log(i + 2, 2) for i in range(min(len(seen), len(rec)))])\n",
    "            for i, r in enumerate(rec):\n",
    "                if r not in seen:\n",
    "                    continue\n",
    "                rank = i + 1\n",
    "                dcg += 1.0 / math.log(rank + 1, 2)\n",
    "            ndcg = dcg / idcg\n",
    "            S += ndcg\n",
    "            Q += 1\n",
    "        return S / Q\n",
    "\n",
    "\n",
    "    def _map(self):\n",
    "        n, ap = 0.0, 0.0\n",
    "        for u, seen in six.iteritems(self.gt):\n",
    "            seen = list(set(seen))\n",
    "            rec = self.recs.get(u, [])\n",
    "            if not rec or len(seen) == 0:\n",
    "                continue\n",
    "\n",
    "            _ap, correct = 0.0, 0.0\n",
    "            for i, r in enumerate(rec):\n",
    "                if r in seen:\n",
    "                    correct += 1\n",
    "                    _ap += (correct / (i + 1.0))\n",
    "            _ap /= min(len(seen), len(rec))\n",
    "            ap += _ap\n",
    "            n += 1.0\n",
    "        return ap / n\n",
    "\n",
    "\n",
    "    def _entropy_diversity(self):\n",
    "        sz = float(len(self.recs)) * self.topn\n",
    "        freq = {}\n",
    "        for u, rec in six.iteritems(self.recs):\n",
    "            for r in rec:\n",
    "                freq[r] = freq.get(r, 0) + 1\n",
    "        ent = -sum([v / sz * math.log(v / sz) for v in six.itervalues(freq)])\n",
    "        return ent\n",
    "    \n",
    "    def _evaluate(self):\n",
    "        print('MAP@%s: %s' % (self.topn, self._map()))\n",
    "        print('NDCG@%s: %s' % (self.topn, self._ndcg()))\n",
    "        print('EntDiv@%s: %s' % (self.topn, self._entropy_diversity()))"
   ]
  },
  {
   "cell_type": "code",
   "execution_count": null,
   "id": "b38a2250",
   "metadata": {},
   "outputs": [],
   "source": [
    "evaluate_func = evaluate(recs=total_rec_list, gt = gt, topn=200)\n",
    "evaluate_func._evaluate()\n",
    "\n"
   ]
  },
  {
   "cell_type": "markdown",
   "id": "7e75eb6d",
   "metadata": {},
   "source": [
    "# Word2vec을 이용한 추천시스템\n",
    "-> user가 본 영화의 id를 하나의 string으로 표현함.\n",
    "-> "
   ]
  },
  {
   "cell_type": "code",
   "execution_count": 100,
   "id": "86083dbc",
   "metadata": {},
   "outputs": [
    {
     "data": {
      "text/html": [
       "<div>\n",
       "<style scoped>\n",
       "    .dataframe tbody tr th:only-of-type {\n",
       "        vertical-align: middle;\n",
       "    }\n",
       "\n",
       "    .dataframe tbody tr th {\n",
       "        vertical-align: top;\n",
       "    }\n",
       "\n",
       "    .dataframe thead th {\n",
       "        text-align: right;\n",
       "    }\n",
       "</style>\n",
       "<table border=\"1\" class=\"dataframe\">\n",
       "  <thead>\n",
       "    <tr style=\"text-align: right;\">\n",
       "      <th></th>\n",
       "      <th>unique</th>\n",
       "    </tr>\n",
       "    <tr>\n",
       "      <th>user_id</th>\n",
       "      <th></th>\n",
       "    </tr>\n",
       "  </thead>\n",
       "  <tbody>\n",
       "    <tr>\n",
       "      <th>1</th>\n",
       "      <td>[4893]</td>\n",
       "    </tr>\n",
       "    <tr>\n",
       "      <th>2</th>\n",
       "      <td>[8855]</td>\n",
       "    </tr>\n",
       "    <tr>\n",
       "      <th>3</th>\n",
       "      <td>[9049]</td>\n",
       "    </tr>\n",
       "    <tr>\n",
       "      <th>4</th>\n",
       "      <td>[3273]</td>\n",
       "    </tr>\n",
       "    <tr>\n",
       "      <th>5</th>\n",
       "      <td>[4829, 6703]</td>\n",
       "    </tr>\n",
       "  </tbody>\n",
       "</table>\n",
       "</div>"
      ],
      "text/plain": [
       "               unique\n",
       "user_id              \n",
       "1              [4893]\n",
       "2              [8855]\n",
       "3              [9049]\n",
       "4              [3273]\n",
       "5        [4829, 6703]"
      ]
     },
     "execution_count": 100,
     "metadata": {},
     "output_type": "execute_result"
    }
   ],
   "source": [
    "agg = train.groupby(['user_id'])['book_id'].agg({'unique'})\n",
    "agg.head()\n"
   ]
  },
  {
   "cell_type": "code",
   "execution_count": 101,
   "id": "e0bd59f5",
   "metadata": {},
   "outputs": [],
   "source": [
    "#int형식은 Word2vec에서 학습이 안되서 string으로 변경\n",
    "sentence = []\n",
    "for user_sentence in agg['unique']:\n",
    "    sentence.append(list(map(str,user_sentence)))\n",
    "    "
   ]
  },
  {
   "cell_type": "code",
   "execution_count": 104,
   "id": "2cb8b383",
   "metadata": {},
   "outputs": [],
   "source": [
    "from gensim.models import Word2Vec\n",
    "embedding_model = Word2Vec(sentence, vector_size = 20, window = 5,\n",
    "                          min_count = 1, workers = 4, epochs =200, sg = 1) # sg=1: skip방식, sg=0 Cbow\n"
   ]
  },
  {
   "cell_type": "code",
   "execution_count": 110,
   "id": "cb9815fb",
   "metadata": {},
   "outputs": [
    {
     "data": {
      "text/plain": [
       "[('8675', 0.8483825325965881),\n",
       " ('8618', 0.8467643857002258),\n",
       " ('9864', 0.8355849385261536),\n",
       " ('7375', 0.8334120512008667),\n",
       " ('5081', 0.8295274376869202),\n",
       " ('8469', 0.8250794410705566),\n",
       " ('9291', 0.8236818909645081),\n",
       " ('9714', 0.8226191997528076),\n",
       " ('6291', 0.8215946555137634),\n",
       " ('9984', 0.8156006932258606)]"
      ]
     },
     "execution_count": 110,
     "metadata": {},
     "output_type": "execute_result"
    }
   ],
   "source": [
    "embedding_model.wv.most_similar(positive=['4893'], topn = 10)\n"
   ]
  },
  {
   "cell_type": "code",
   "execution_count": 121,
   "id": "93fcc153",
   "metadata": {},
   "outputs": [
    {
     "data": {
      "application/vnd.jupyter.widget-view+json": {
       "model_id": "867f6d4a3e41445688c693d5e70e0e9f",
       "version_major": 2,
       "version_minor": 0
      },
      "text/plain": [
       "  0%|          | 0/53382 [00:00<?, ?it/s]"
      ]
     },
     "metadata": {},
     "output_type": "display_data"
    },
    {
     "ename": "KeyboardInterrupt",
     "evalue": "",
     "output_type": "error",
     "traceback": [
      "\u001b[0;31m---------------------------------------------------------------------------\u001b[0m",
      "\u001b[0;31mKeyboardInterrupt\u001b[0m                         Traceback (most recent call last)",
      "Input \u001b[0;32mIn [121]\u001b[0m, in \u001b[0;36m<module>\u001b[0;34m\u001b[0m\n",
      "\u001b[0;31mKeyboardInterrupt\u001b[0m: "
     ]
    }
   ],
   "source": [
    "## 전체 영화에 대해서 진행 \n",
    "total_rec_list = {}\n",
    "\n",
    "read_list = train.groupby(['user_id'])['book_id'].agg({'unique'}).reset_index()\n",
    "for user in tqdm(train['user_id'].unique()):\n",
    "    rec_list = []     \n",
    "    seen = read_list1[read_list1['user_id'] == user]['unique'].values[0]\n",
    "    word2vec_dict = {}\n",
    "    for book in seen: \n",
    "        for i in embedding_model.wv.most_similar(positive=[book], topn=300):\n",
    "            if i[0] not in seen: \n",
    "                if i[0] not in word2vec_dict.keys(): \n",
    "                    word2vec_dict[i[0]] = i[1]\n",
    "                else:\n",
    "                    word2vec_dict[i[0]] += i[1]\n",
    "                \n",
    "    rec_list = list(dict(sorted(word2vec_dict.items(), key = lambda x: x[1], reverse=True)).keys())\n",
    "    total_rec_list[user] = rec_list[0:200]"
   ]
  },
  {
   "cell_type": "code",
   "execution_count": 124,
   "id": "e6b7c82d",
   "metadata": {},
   "outputs": [
    {
     "ename": "NameError",
     "evalue": "name 'evaluate' is not defined",
     "output_type": "error",
     "traceback": [
      "\u001b[0;31m---------------------------------------------------------------------------\u001b[0m",
      "\u001b[0;31mNameError\u001b[0m                                 Traceback (most recent call last)",
      "Input \u001b[0;32mIn [124]\u001b[0m, in \u001b[0;36m<module>\u001b[0;34m\u001b[0m\n\u001b[0;32m----> 1\u001b[0m evaluate_func \u001b[38;5;241m=\u001b[39m \u001b[43mevaluate\u001b[49m(recs\u001b[38;5;241m=\u001b[39mtotal_rec_list, gt \u001b[38;5;241m=\u001b[39m gt, topn\u001b[38;5;241m=\u001b[39m\u001b[38;5;241m200\u001b[39m)\n\u001b[1;32m      2\u001b[0m evaluate_func\u001b[38;5;241m.\u001b[39m_evaluate()\n",
      "\u001b[0;31mNameError\u001b[0m: name 'evaluate' is not defined"
     ]
    }
   ],
   "source": [
    "evaluate_func = evaluate(recs=total_rec_list, gt = gt, topn=200)\n",
    "evaluate_func._evaluate()\n"
   ]
  },
  {
   "cell_type": "markdown",
   "id": "d1bd735b",
   "metadata": {},
   "source": [
    "# 태그를 통한 유사도 계산"
   ]
  },
  {
   "cell_type": "code",
   "execution_count": 125,
   "id": "5912eee6",
   "metadata": {},
   "outputs": [
    {
     "data": {
      "text/html": [
       "<div>\n",
       "<style scoped>\n",
       "    .dataframe tbody tr th:only-of-type {\n",
       "        vertical-align: middle;\n",
       "    }\n",
       "\n",
       "    .dataframe tbody tr th {\n",
       "        vertical-align: top;\n",
       "    }\n",
       "\n",
       "    .dataframe thead th {\n",
       "        text-align: right;\n",
       "    }\n",
       "</style>\n",
       "<table border=\"1\" class=\"dataframe\">\n",
       "  <thead>\n",
       "    <tr style=\"text-align: right;\">\n",
       "      <th></th>\n",
       "      <th>book_id</th>\n",
       "      <th>tag_id</th>\n",
       "      <th>count</th>\n",
       "      <th>tag_name</th>\n",
       "    </tr>\n",
       "  </thead>\n",
       "  <tbody>\n",
       "    <tr>\n",
       "      <th>0</th>\n",
       "      <td>1</td>\n",
       "      <td>30574</td>\n",
       "      <td>167697</td>\n",
       "      <td>to-read</td>\n",
       "    </tr>\n",
       "    <tr>\n",
       "      <th>1</th>\n",
       "      <td>1</td>\n",
       "      <td>11305</td>\n",
       "      <td>37174</td>\n",
       "      <td>fantasy</td>\n",
       "    </tr>\n",
       "    <tr>\n",
       "      <th>2</th>\n",
       "      <td>1</td>\n",
       "      <td>11557</td>\n",
       "      <td>34173</td>\n",
       "      <td>favorites</td>\n",
       "    </tr>\n",
       "    <tr>\n",
       "      <th>3</th>\n",
       "      <td>1</td>\n",
       "      <td>8717</td>\n",
       "      <td>12986</td>\n",
       "      <td>currently-reading</td>\n",
       "    </tr>\n",
       "    <tr>\n",
       "      <th>4</th>\n",
       "      <td>1</td>\n",
       "      <td>33114</td>\n",
       "      <td>12716</td>\n",
       "      <td>young-adult</td>\n",
       "    </tr>\n",
       "  </tbody>\n",
       "</table>\n",
       "</div>"
      ],
      "text/plain": [
       "  book_id tag_id   count           tag_name\n",
       "0       1  30574  167697            to-read\n",
       "1       1  11305   37174            fantasy\n",
       "2       1  11557   34173          favorites\n",
       "3       1   8717   12986  currently-reading\n",
       "4       1  33114   12716        young-adult"
      ]
     },
     "execution_count": 125,
     "metadata": {},
     "output_type": "execute_result"
    }
   ],
   "source": [
    "book_tags.columns = ['book_id', 'tag_id', 'count']\n",
    "book_tags['book_id'] = book_tags['book_id'].astype(str)\n",
    "book_tags['tag_id'] = book_tags['tag_id'].astype(str)\n",
    "\n",
    "tags['tag_id'] = tags['tag_id'].astype(str)\n",
    "\n",
    "book_tags = pd.merge(book_tags, tags, how='left', on='tag_id')\n",
    "book_tags.head()"
   ]
  },
  {
   "cell_type": "code",
   "execution_count": 127,
   "id": "8b146f8f",
   "metadata": {},
   "outputs": [
    {
     "data": {
      "text/html": [
       "<div>\n",
       "<style scoped>\n",
       "    .dataframe tbody tr th:only-of-type {\n",
       "        vertical-align: middle;\n",
       "    }\n",
       "\n",
       "    .dataframe tbody tr th {\n",
       "        vertical-align: top;\n",
       "    }\n",
       "\n",
       "    .dataframe thead th {\n",
       "        text-align: right;\n",
       "    }\n",
       "</style>\n",
       "<table border=\"1\" class=\"dataframe\">\n",
       "  <thead>\n",
       "    <tr style=\"text-align: right;\">\n",
       "      <th></th>\n",
       "      <th>book_id</th>\n",
       "      <th>unique</th>\n",
       "    </tr>\n",
       "  </thead>\n",
       "  <tbody>\n",
       "    <tr>\n",
       "      <th>0</th>\n",
       "      <td>1</td>\n",
       "      <td>[to-read, fantasy, favorites, currently-readin...</td>\n",
       "    </tr>\n",
       "    <tr>\n",
       "      <th>1</th>\n",
       "      <td>10</td>\n",
       "      <td>[to-read, favorites, fantasy, currently-readin...</td>\n",
       "    </tr>\n",
       "    <tr>\n",
       "      <th>2</th>\n",
       "      <td>10006</td>\n",
       "      <td>[to-read, fiction, currently-reading, rory-gil...</td>\n",
       "    </tr>\n",
       "    <tr>\n",
       "      <th>3</th>\n",
       "      <td>1000751</td>\n",
       "      <td>[to-read, classics, childrens, fiction, curren...</td>\n",
       "    </tr>\n",
       "    <tr>\n",
       "      <th>4</th>\n",
       "      <td>10008056</td>\n",
       "      <td>[to-read, default, currently-reading, krimi, c...</td>\n",
       "    </tr>\n",
       "  </tbody>\n",
       "</table>\n",
       "</div>"
      ],
      "text/plain": [
       "    book_id                                             unique\n",
       "0         1  [to-read, fantasy, favorites, currently-readin...\n",
       "1        10  [to-read, favorites, fantasy, currently-readin...\n",
       "2     10006  [to-read, fiction, currently-reading, rory-gil...\n",
       "3   1000751  [to-read, classics, childrens, fiction, curren...\n",
       "4  10008056  [to-read, default, currently-reading, krimi, c..."
      ]
     },
     "execution_count": 127,
     "metadata": {},
     "output_type": "execute_result"
    }
   ],
   "source": [
    "agg = book_tags.groupby(['book_id'])['tag_name'].agg({'unique'}).reset_index()\n",
    "agg.head()"
   ]
  },
  {
   "cell_type": "code",
   "execution_count": 130,
   "id": "f7b7eee8",
   "metadata": {},
   "outputs": [
    {
     "data": {
      "text/plain": [
       "['to-read',\n",
       " 'fantasy',\n",
       " 'favorites',\n",
       " 'currently-reading',\n",
       " 'young-adult',\n",
       " 'fiction',\n",
       " 'harry-potter',\n",
       " 'books-i-own',\n",
       " 'owned',\n",
       " 'ya',\n",
       " 'series',\n",
       " 'favourites',\n",
       " 'magic',\n",
       " 'childrens',\n",
       " 'owned-books',\n",
       " 're-read',\n",
       " 'adventure',\n",
       " 'children',\n",
       " 'j-k-rowling',\n",
       " 'children-s',\n",
       " 'sci-fi-fantasy',\n",
       " 'childhood',\n",
       " 'all-time-favorites',\n",
       " 'default',\n",
       " 'my-books',\n",
       " 'classics',\n",
       " 'reread',\n",
       " 'i-own',\n",
       " 'audiobook',\n",
       " '5-stars',\n",
       " 'children-s-books',\n",
       " 'favorite-books',\n",
       " 'kids',\n",
       " 'novels',\n",
       " 'fantasy-sci-fi',\n",
       " 'favorite',\n",
       " 'middle-grade',\n",
       " 'audiobooks',\n",
       " 'paranormal',\n",
       " 'read-more-than-once',\n",
       " 'my-library',\n",
       " 'ya-fantasy',\n",
       " 'teen',\n",
       " 'witches',\n",
       " 'english',\n",
       " 'urban-fantasy',\n",
       " 'british',\n",
       " 'jk-rowling',\n",
       " 'books',\n",
       " 'read-in-2016',\n",
       " 'supernatural',\n",
       " 're-reads',\n",
       " 'mystery',\n",
       " 'ya-fiction',\n",
       " 'harry-potter-series',\n",
       " 'my-favorites',\n",
       " 'own-it',\n",
       " 'childrens-books',\n",
       " 'library',\n",
       " 'audio',\n",
       " 'young-adult-fiction',\n",
       " 'novel',\n",
       " '2005',\n",
       " 'scifi-fantasy',\n",
       " 'wizards',\n",
       " 'faves',\n",
       " 'favorite-series',\n",
       " 'read-in-2015',\n",
       " 'made-me-cry',\n",
       " 'juvenile',\n",
       " 'shelfari-favorites',\n",
       " 'kindle',\n",
       " 'youth',\n",
       " 'romance',\n",
       " 'favourite',\n",
       " 'to-buy',\n",
       " 'read-in-2014',\n",
       " 'to-re-read',\n",
       " 'all-time-favourites',\n",
       " 'childhood-favorites',\n",
       " 'kids-books',\n",
       " 'ebook',\n",
       " 'rereads',\n",
       " 'contemporary',\n",
       " 'read-in-english',\n",
       " '5-star',\n",
       " 'coming-of-age',\n",
       " 'science-fiction-fantasy',\n",
       " 'read-in-2017',\n",
       " 'england',\n",
       " 'children-s-literature',\n",
       " 'favourite-books',\n",
       " 'on-my-shelf',\n",
       " 'my-bookshelf',\n",
       " 'children-s-lit',\n",
       " 'bookshelf',\n",
       " 'magical',\n",
       " 'favs',\n",
       " 'childhood-books',\n",
       " 'potter']"
      ]
     },
     "execution_count": 130,
     "metadata": {},
     "output_type": "execute_result"
    }
   ],
   "source": [
    "# 태그간의 유사도 계산 \n",
    "# int형식은 Word2vec에서 학습이 안되어서 String으로 변경해줍니다. \n",
    "sentence = []\n",
    "for user_sentence in agg['unique'].values:\n",
    "    sentence.append(list(map(str, user_sentence)))\n",
    "sentence[0]"
   ]
  },
  {
   "cell_type": "code",
   "execution_count": 132,
   "id": "ee51db60",
   "metadata": {},
   "outputs": [],
   "source": [
    "from gensim.models import doc2vec\n",
    "doc_vectorizer = doc2vec.Doc2Vec(\n",
    "    dm=0,            # PV-DBOW / default 1\n",
    "    dbow_words=1,    # w2v simultaneous with DBOW d2v / default 0\n",
    "    window=10,        # distance between the predicted word and context words\n",
    "    vector_size=100,        # vector size\n",
    "    alpha=0.025,     # learning-rate\n",
    "    seed=1234,\n",
    "    min_count=5,    # ignore with freq lower\n",
    "    min_alpha=0.025, # min learning-rate\n",
    "    workers=4,   # multi cpu\n",
    "    hs = 1,          # hierar chical softmax / default 0\n",
    "    negative = 10   # negative sampling / default 5\n",
    ")"
   ]
  },
  {
   "cell_type": "code",
   "execution_count": 153,
   "id": "a8c44771",
   "metadata": {},
   "outputs": [],
   "source": [
    "from collections import namedtuple\n",
    "\n",
    "TaggedDocument = namedtuple('TaggedDocument', 'words tags')\n",
    "tagged_train_docs = [TaggedDocument(c, [d]) for c, d in agg[['unique', 'book_id']].values]\n"
   ]
  },
  {
   "cell_type": "code",
   "execution_count": 135,
   "id": "70d15849",
   "metadata": {},
   "outputs": [
    {
     "name": "stdout",
     "output_type": "stream",
     "text": [
      "Doc2Vec(dbow+w,d100,n10,hs,w10,mc5,s0.001,t4)\n"
     ]
    }
   ],
   "source": [
    "doc_vectorizer.build_vocab(tagged_train_docs)\n",
    "print(str(doc_vectorizer))"
   ]
  },
  {
   "cell_type": "code",
   "execution_count": 152,
   "id": "21159a64",
   "metadata": {},
   "outputs": [
    {
     "name": "stdout",
     "output_type": "stream",
     "text": [
      "<class 'numpy.ndarray'> <class 'str'>\n"
     ]
    }
   ],
   "source": [
    "for c,d in agg[['unique', 'book_id']].values:\n",
    "    print(type(c),type(d))\n",
    "    break"
   ]
  },
  {
   "cell_type": "code",
   "execution_count": 154,
   "id": "390de731",
   "metadata": {},
   "outputs": [
    {
     "data": {
      "application/vnd.jupyter.widget-view+json": {
       "model_id": "3dbb2e3a2a644bd892ae543ec0b08f86",
       "version_major": 2,
       "version_minor": 0
      },
      "text/plain": [
       "  0%|          | 0/5 [00:00<?, ?it/s]"
      ]
     },
     "metadata": {},
     "output_type": "display_data"
    },
    {
     "name": "stdout",
     "output_type": "stream",
     "text": [
      "During Time: 463.74789118766785\n"
     ]
    }
   ],
   "source": [
    "# 벡터 문서 학습\n",
    "from time import time\n",
    "\n",
    "start = time()\n",
    "\n",
    "for epoch in tqdm(range(5)):\n",
    "    doc_vectorizer.train(tagged_train_docs, total_examples=doc_vectorizer.corpus_count, epochs=doc_vectorizer.epochs)\n",
    "    doc_vectorizer.alpha -= 0.002 # decrease the learning rate\n",
    "    doc_vectorizer.min_alpha = doc_vectorizer.alpha # fix the learning rate, no decay\n",
    "\n",
    "#doc_vectorizer.train(tagged_train_docs, total_examples=doc_vectorizer.corpus_count, epochs=doc_vectorizer.iter)\n",
    "end = time()\n",
    "print(\"During Time: {}\".format(end-start))"
   ]
  },
  {
   "cell_type": "code",
   "execution_count": null,
   "id": "f16f8917",
   "metadata": {},
   "outputs": [],
   "source": [
    "doc_vectorizer.docvecs.most_similar('1', topn=20)"
   ]
  },
  {
   "cell_type": "code",
   "execution_count": null,
   "id": "d9ca2e13",
   "metadata": {},
   "outputs": [],
   "source": [
    "# tag 정보가 있는 책이 있고 아닌 책이 있어서 해당 책만 추출 \n",
    "agg['type'] = '1'\n",
    "train = pd.merge(train, agg, how='left', on='book_id')"
   ]
  },
  {
   "cell_type": "code",
   "execution_count": 155,
   "id": "70609a3c",
   "metadata": {},
   "outputs": [
    {
     "ename": "KeyError",
     "evalue": "'type'",
     "output_type": "error",
     "traceback": [
      "\u001b[0;31m---------------------------------------------------------------------------\u001b[0m",
      "\u001b[0;31mKeyError\u001b[0m                                  Traceback (most recent call last)",
      "File \u001b[0;32m/Library/Frameworks/Python.framework/Versions/3.10/lib/python3.10/site-packages/pandas/core/indexes/base.py:3621\u001b[0m, in \u001b[0;36mIndex.get_loc\u001b[0;34m(self, key, method, tolerance)\u001b[0m\n\u001b[1;32m   3620\u001b[0m \u001b[38;5;28;01mtry\u001b[39;00m:\n\u001b[0;32m-> 3621\u001b[0m     \u001b[38;5;28;01mreturn\u001b[39;00m \u001b[38;5;28;43mself\u001b[39;49m\u001b[38;5;241;43m.\u001b[39;49m\u001b[43m_engine\u001b[49m\u001b[38;5;241;43m.\u001b[39;49m\u001b[43mget_loc\u001b[49m\u001b[43m(\u001b[49m\u001b[43mcasted_key\u001b[49m\u001b[43m)\u001b[49m\n\u001b[1;32m   3622\u001b[0m \u001b[38;5;28;01mexcept\u001b[39;00m \u001b[38;5;167;01mKeyError\u001b[39;00m \u001b[38;5;28;01mas\u001b[39;00m err:\n",
      "File \u001b[0;32m/Library/Frameworks/Python.framework/Versions/3.10/lib/python3.10/site-packages/pandas/_libs/index.pyx:136\u001b[0m, in \u001b[0;36mpandas._libs.index.IndexEngine.get_loc\u001b[0;34m()\u001b[0m\n",
      "File \u001b[0;32m/Library/Frameworks/Python.framework/Versions/3.10/lib/python3.10/site-packages/pandas/_libs/index.pyx:163\u001b[0m, in \u001b[0;36mpandas._libs.index.IndexEngine.get_loc\u001b[0;34m()\u001b[0m\n",
      "File \u001b[0;32mpandas/_libs/hashtable_class_helper.pxi:5198\u001b[0m, in \u001b[0;36mpandas._libs.hashtable.PyObjectHashTable.get_item\u001b[0;34m()\u001b[0m\n",
      "File \u001b[0;32mpandas/_libs/hashtable_class_helper.pxi:5206\u001b[0m, in \u001b[0;36mpandas._libs.hashtable.PyObjectHashTable.get_item\u001b[0;34m()\u001b[0m\n",
      "\u001b[0;31mKeyError\u001b[0m: 'type'",
      "\nThe above exception was the direct cause of the following exception:\n",
      "\u001b[0;31mKeyError\u001b[0m                                  Traceback (most recent call last)",
      "Input \u001b[0;32mIn [155]\u001b[0m, in \u001b[0;36m<module>\u001b[0;34m\u001b[0m\n\u001b[1;32m      2\u001b[0m total_rec_list \u001b[38;5;241m=\u001b[39m {}\n\u001b[1;32m      3\u001b[0m read_list1 \u001b[38;5;241m=\u001b[39m train\u001b[38;5;241m.\u001b[39mgroupby([\u001b[38;5;124m'\u001b[39m\u001b[38;5;124muser_id\u001b[39m\u001b[38;5;124m'\u001b[39m])[\u001b[38;5;124m'\u001b[39m\u001b[38;5;124mbook_id\u001b[39m\u001b[38;5;124m'\u001b[39m]\u001b[38;5;241m.\u001b[39magg({\u001b[38;5;124m'\u001b[39m\u001b[38;5;124munique\u001b[39m\u001b[38;5;124m'\u001b[39m})\u001b[38;5;241m.\u001b[39mreset_index()\n\u001b[0;32m----> 4\u001b[0m read_list2 \u001b[38;5;241m=\u001b[39m train[\u001b[43mtrain\u001b[49m\u001b[43m[\u001b[49m\u001b[38;5;124;43m'\u001b[39;49m\u001b[38;5;124;43mtype\u001b[39;49m\u001b[38;5;124;43m'\u001b[39;49m\u001b[43m]\u001b[49m \u001b[38;5;241m==\u001b[39m \u001b[38;5;124m'\u001b[39m\u001b[38;5;124m1\u001b[39m\u001b[38;5;124m'\u001b[39m]\u001b[38;5;241m.\u001b[39mgroupby([\u001b[38;5;124m'\u001b[39m\u001b[38;5;124muser_id\u001b[39m\u001b[38;5;124m'\u001b[39m])[\u001b[38;5;124m'\u001b[39m\u001b[38;5;124mbook_id\u001b[39m\u001b[38;5;124m'\u001b[39m]\u001b[38;5;241m.\u001b[39magg({\u001b[38;5;124m'\u001b[39m\u001b[38;5;124munique\u001b[39m\u001b[38;5;124m'\u001b[39m})\u001b[38;5;241m.\u001b[39mreset_index()\n\u001b[1;32m      5\u001b[0m \u001b[38;5;28;01mfor\u001b[39;00m user \u001b[38;5;129;01min\u001b[39;00m tqdm(train[\u001b[38;5;124m'\u001b[39m\u001b[38;5;124muser_id\u001b[39m\u001b[38;5;124m'\u001b[39m]\u001b[38;5;241m.\u001b[39munique()):\n\u001b[1;32m      6\u001b[0m     rec_list \u001b[38;5;241m=\u001b[39m []\n",
      "File \u001b[0;32m/Library/Frameworks/Python.framework/Versions/3.10/lib/python3.10/site-packages/pandas/core/frame.py:3506\u001b[0m, in \u001b[0;36mDataFrame.__getitem__\u001b[0;34m(self, key)\u001b[0m\n\u001b[1;32m   3504\u001b[0m \u001b[38;5;28;01mif\u001b[39;00m \u001b[38;5;28mself\u001b[39m\u001b[38;5;241m.\u001b[39mcolumns\u001b[38;5;241m.\u001b[39mnlevels \u001b[38;5;241m>\u001b[39m \u001b[38;5;241m1\u001b[39m:\n\u001b[1;32m   3505\u001b[0m     \u001b[38;5;28;01mreturn\u001b[39;00m \u001b[38;5;28mself\u001b[39m\u001b[38;5;241m.\u001b[39m_getitem_multilevel(key)\n\u001b[0;32m-> 3506\u001b[0m indexer \u001b[38;5;241m=\u001b[39m \u001b[38;5;28;43mself\u001b[39;49m\u001b[38;5;241;43m.\u001b[39;49m\u001b[43mcolumns\u001b[49m\u001b[38;5;241;43m.\u001b[39;49m\u001b[43mget_loc\u001b[49m\u001b[43m(\u001b[49m\u001b[43mkey\u001b[49m\u001b[43m)\u001b[49m\n\u001b[1;32m   3507\u001b[0m \u001b[38;5;28;01mif\u001b[39;00m is_integer(indexer):\n\u001b[1;32m   3508\u001b[0m     indexer \u001b[38;5;241m=\u001b[39m [indexer]\n",
      "File \u001b[0;32m/Library/Frameworks/Python.framework/Versions/3.10/lib/python3.10/site-packages/pandas/core/indexes/base.py:3623\u001b[0m, in \u001b[0;36mIndex.get_loc\u001b[0;34m(self, key, method, tolerance)\u001b[0m\n\u001b[1;32m   3621\u001b[0m     \u001b[38;5;28;01mreturn\u001b[39;00m \u001b[38;5;28mself\u001b[39m\u001b[38;5;241m.\u001b[39m_engine\u001b[38;5;241m.\u001b[39mget_loc(casted_key)\n\u001b[1;32m   3622\u001b[0m \u001b[38;5;28;01mexcept\u001b[39;00m \u001b[38;5;167;01mKeyError\u001b[39;00m \u001b[38;5;28;01mas\u001b[39;00m err:\n\u001b[0;32m-> 3623\u001b[0m     \u001b[38;5;28;01mraise\u001b[39;00m \u001b[38;5;167;01mKeyError\u001b[39;00m(key) \u001b[38;5;28;01mfrom\u001b[39;00m \u001b[38;5;21;01merr\u001b[39;00m\n\u001b[1;32m   3624\u001b[0m \u001b[38;5;28;01mexcept\u001b[39;00m \u001b[38;5;167;01mTypeError\u001b[39;00m:\n\u001b[1;32m   3625\u001b[0m     \u001b[38;5;66;03m# If we have a listlike key, _check_indexing_error will raise\u001b[39;00m\n\u001b[1;32m   3626\u001b[0m     \u001b[38;5;66;03m#  InvalidIndexError. Otherwise we fall through and re-raise\u001b[39;00m\n\u001b[1;32m   3627\u001b[0m     \u001b[38;5;66;03m#  the TypeError.\u001b[39;00m\n\u001b[1;32m   3628\u001b[0m     \u001b[38;5;28mself\u001b[39m\u001b[38;5;241m.\u001b[39m_check_indexing_error(key)\n",
      "\u001b[0;31mKeyError\u001b[0m: 'type'"
     ]
    }
   ],
   "source": [
    "## 전체 영화에 대해서 진행 \n",
    "total_rec_list = {}\n",
    "read_list1 = train.groupby(['user_id'])['book_id'].agg({'unique'}).reset_index()\n",
    "read_list2 = train[train['type'] == '1'].groupby(['user_id'])['book_id'].agg({'unique'}).reset_index()\n",
    "for user in tqdm(train['user_id'].unique()):\n",
    "    rec_list = []\n",
    "    if user in read_list2['user_id'].unique():\n",
    "        seen = read_list2[read_list2['user_id'] == user]['unique'].values[0]\n",
    "        doc2vec_dict = {}\n",
    "        for book in seen: \n",
    "            for i in doc_vectorizer.docvecs.most_similar(positive=[book], topn=300): \n",
    "                if i[0] not in doc2vec_dict.keys(): \n",
    "                    doc2vec_dict[i[0]] = i[1]\n",
    "                else:\n",
    "                    doc2vec_dict[i[0]] += i[1]\n",
    "\n",
    "        rec_list = list(dict(sorted(doc2vec_dict.items(), key = lambda x: x[1], reverse=True)).keys())\n",
    "    else:\n",
    "        \n",
    "        seen = read_list1[read_list1['user_id'] == user]['unique'].values[0]\n",
    "        for rec in popular_rec_model[0:300]:\n",
    "            if rec not in seen:\n",
    "                rec_list.append(rec)\n",
    "    total_rec_list[user] = rec_list[0:200]"
   ]
  },
  {
   "cell_type": "code",
   "execution_count": null,
   "id": "7ae51004",
   "metadata": {},
   "outputs": [],
   "source": []
  }
 ],
 "metadata": {
  "kernelspec": {
   "display_name": "Python 3 (ipykernel)",
   "language": "python",
   "name": "python3"
  },
  "language_info": {
   "codemirror_mode": {
    "name": "ipython",
    "version": 3
   },
   "file_extension": ".py",
   "mimetype": "text/x-python",
   "name": "python",
   "nbconvert_exporter": "python",
   "pygments_lexer": "ipython3",
   "version": "3.10.2"
  }
 },
 "nbformat": 4,
 "nbformat_minor": 5
}
