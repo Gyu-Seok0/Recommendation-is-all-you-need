{
 "cells": [
  {
   "cell_type": "code",
   "execution_count": 1,
   "id": "cabd8ee8",
   "metadata": {},
   "outputs": [],
   "source": [
    "import pandas as pd\n",
    "import numpy as np\n",
    "import plotnine \n",
    "from plotnine import *\n",
    "import os, sys, gc\n",
    "from tqdm.notebook import tqdm"
   ]
  },
  {
   "cell_type": "code",
   "execution_count": 4,
   "id": "dad6ae6d",
   "metadata": {},
   "outputs": [],
   "source": [
    "path = \"./books/\"\n",
    "books = pd.read_csv(path + \"books.csv\")\n",
    "book_tags = pd.read_csv(path + \"book_tags.csv\")\n",
    "train = pd.read_csv(path + \"train.csv\")\n",
    "test = pd.read_csv(path + \"test.csv\")\n",
    "tags = pd.read_csv(path + \"tags.csv\")\n",
    "to_read = pd.read_csv(path + \"to_read.csv\")"
   ]
  },
  {
   "cell_type": "code",
   "execution_count": 6,
   "id": "4af9cc4f",
   "metadata": {},
   "outputs": [],
   "source": [
    "train['book_id'] = train['book_id'].astype(str)\n",
    "test['book_id'] = test['book_id'].astype(str)\n",
    "books['book_id'] = books['book_id'].astype(str)"
   ]
  },
  {
   "cell_type": "code",
   "execution_count": 7,
   "id": "06b8c3dc",
   "metadata": {},
   "outputs": [
    {
     "data": {
      "application/vnd.jupyter.widget-view+json": {
       "model_id": "4427ac028e9547f89242cfadad6262e0",
       "version_major": 2,
       "version_minor": 0
      },
      "text/plain": [
       "  0%|          | 0/53424 [00:00<?, ?it/s]"
      ]
     },
     "metadata": {},
     "output_type": "display_data"
    }
   ],
   "source": [
    "sol = test.groupby(['user_id'])['book_id'].agg({'unique'}).reset_index()\n",
    "\n",
    "gt = {} #sol을 딕셔너리 형태로 변환시킴.\n",
    "for user in tqdm(sol['user_id'].unique()): \n",
    "    gt[user] = list(sol[sol['user_id'] == user]['unique'].values[0])"
   ]
  },
  {
   "cell_type": "code",
   "execution_count": 12,
   "id": "f7eb60a6",
   "metadata": {},
   "outputs": [],
   "source": [
    "rec_df = pd.DataFrame()\n",
    "rec_df['user_id'] = train['user_id'].unique()"
   ]
  },
  {
   "cell_type": "markdown",
   "id": "e218a8e5",
   "metadata": {},
   "source": [
    "# Baseline\n",
    "\n",
    "-> 단순 상위 200개 책을 추천해줍시다."
   ]
  },
  {
   "cell_type": "code",
   "execution_count": 17,
   "id": "707e623d",
   "metadata": {},
   "outputs": [
    {
     "data": {
      "text/html": [
       "<div>\n",
       "<style scoped>\n",
       "    .dataframe tbody tr th:only-of-type {\n",
       "        vertical-align: middle;\n",
       "    }\n",
       "\n",
       "    .dataframe tbody tr th {\n",
       "        vertical-align: top;\n",
       "    }\n",
       "\n",
       "    .dataframe thead th {\n",
       "        text-align: right;\n",
       "    }\n",
       "</style>\n",
       "<table border=\"1\" class=\"dataframe\">\n",
       "  <thead>\n",
       "    <tr style=\"text-align: right;\">\n",
       "      <th></th>\n",
       "      <th>id</th>\n",
       "      <th>book_id</th>\n",
       "      <th>best_book_id</th>\n",
       "      <th>work_id</th>\n",
       "      <th>books_count</th>\n",
       "      <th>isbn</th>\n",
       "      <th>isbn13</th>\n",
       "      <th>authors</th>\n",
       "      <th>original_publication_year</th>\n",
       "      <th>original_title</th>\n",
       "      <th>...</th>\n",
       "      <th>ratings_count</th>\n",
       "      <th>work_ratings_count</th>\n",
       "      <th>work_text_reviews_count</th>\n",
       "      <th>ratings_1</th>\n",
       "      <th>ratings_2</th>\n",
       "      <th>ratings_3</th>\n",
       "      <th>ratings_4</th>\n",
       "      <th>ratings_5</th>\n",
       "      <th>image_url</th>\n",
       "      <th>small_image_url</th>\n",
       "    </tr>\n",
       "  </thead>\n",
       "  <tbody>\n",
       "    <tr>\n",
       "      <th>9</th>\n",
       "      <td>10</td>\n",
       "      <td>1885</td>\n",
       "      <td>1885</td>\n",
       "      <td>3060926</td>\n",
       "      <td>3455</td>\n",
       "      <td>679783261</td>\n",
       "      <td>9.780680e+12</td>\n",
       "      <td>Jane Austen</td>\n",
       "      <td>1813.0</td>\n",
       "      <td>Pride and Prejudice</td>\n",
       "      <td>...</td>\n",
       "      <td>2035490</td>\n",
       "      <td>2191465</td>\n",
       "      <td>49152</td>\n",
       "      <td>54700</td>\n",
       "      <td>86485</td>\n",
       "      <td>284852</td>\n",
       "      <td>609755</td>\n",
       "      <td>1155673</td>\n",
       "      <td>https://images.gr-assets.com/books/1320399351m...</td>\n",
       "      <td>https://images.gr-assets.com/books/1320399351s...</td>\n",
       "    </tr>\n",
       "    <tr>\n",
       "      <th>1724</th>\n",
       "      <td>1725</td>\n",
       "      <td>6324090</td>\n",
       "      <td>6324090</td>\n",
       "      <td>55548884</td>\n",
       "      <td>3296</td>\n",
       "      <td>NaN</td>\n",
       "      <td>NaN</td>\n",
       "      <td>Lewis Carroll, John Tenniel</td>\n",
       "      <td>1865.0</td>\n",
       "      <td>NaN</td>\n",
       "      <td>...</td>\n",
       "      <td>30426</td>\n",
       "      <td>85031</td>\n",
       "      <td>5047</td>\n",
       "      <td>1724</td>\n",
       "      <td>4863</td>\n",
       "      <td>18094</td>\n",
       "      <td>27848</td>\n",
       "      <td>32502</td>\n",
       "      <td>https://images.gr-assets.com/books/1391204048m...</td>\n",
       "      <td>https://images.gr-assets.com/books/1391204048s...</td>\n",
       "    </tr>\n",
       "    <tr>\n",
       "      <th>70</th>\n",
       "      <td>71</td>\n",
       "      <td>18490</td>\n",
       "      <td>18490</td>\n",
       "      <td>4836639</td>\n",
       "      <td>2618</td>\n",
       "      <td>141439475</td>\n",
       "      <td>9.780141e+12</td>\n",
       "      <td>Mary Wollstonecraft Shelley, Percy Bysshe Shel...</td>\n",
       "      <td>1818.0</td>\n",
       "      <td>Frankenstein; or, The Modern Prometheus</td>\n",
       "      <td>...</td>\n",
       "      <td>808589</td>\n",
       "      <td>883563</td>\n",
       "      <td>19993</td>\n",
       "      <td>29366</td>\n",
       "      <td>74142</td>\n",
       "      <td>231022</td>\n",
       "      <td>300495</td>\n",
       "      <td>248538</td>\n",
       "      <td>https://images.gr-assets.com/books/1381512375m...</td>\n",
       "      <td>https://images.gr-assets.com/books/1381512375s...</td>\n",
       "    </tr>\n",
       "    <tr>\n",
       "      <th>292</th>\n",
       "      <td>293</td>\n",
       "      <td>295</td>\n",
       "      <td>295</td>\n",
       "      <td>3077988</td>\n",
       "      <td>2573</td>\n",
       "      <td>753453800</td>\n",
       "      <td>9.780753e+12</td>\n",
       "      <td>Robert Louis Stevenson</td>\n",
       "      <td>1882.0</td>\n",
       "      <td>Treasure Island</td>\n",
       "      <td>...</td>\n",
       "      <td>268012</td>\n",
       "      <td>310515</td>\n",
       "      <td>7917</td>\n",
       "      <td>5349</td>\n",
       "      <td>19127</td>\n",
       "      <td>86487</td>\n",
       "      <td>114968</td>\n",
       "      <td>84584</td>\n",
       "      <td>https://images.gr-assets.com/books/1485248909m...</td>\n",
       "      <td>https://images.gr-assets.com/books/1485248909s...</td>\n",
       "    </tr>\n",
       "    <tr>\n",
       "      <th>42</th>\n",
       "      <td>43</td>\n",
       "      <td>10210</td>\n",
       "      <td>10210</td>\n",
       "      <td>2977639</td>\n",
       "      <td>2568</td>\n",
       "      <td>142437204</td>\n",
       "      <td>9.780142e+12</td>\n",
       "      <td>Charlotte Brontë, Michael Mason</td>\n",
       "      <td>1847.0</td>\n",
       "      <td>Jane Eyre</td>\n",
       "      <td>...</td>\n",
       "      <td>1198557</td>\n",
       "      <td>1286135</td>\n",
       "      <td>31212</td>\n",
       "      <td>35132</td>\n",
       "      <td>64274</td>\n",
       "      <td>212294</td>\n",
       "      <td>400214</td>\n",
       "      <td>574221</td>\n",
       "      <td>https://images.gr-assets.com/books/1327867269m...</td>\n",
       "      <td>https://images.gr-assets.com/books/1327867269s...</td>\n",
       "    </tr>\n",
       "  </tbody>\n",
       "</table>\n",
       "<p>5 rows × 23 columns</p>\n",
       "</div>"
      ],
      "text/plain": [
       "        id  book_id  best_book_id   work_id  books_count       isbn  \\\n",
       "9       10     1885          1885   3060926         3455  679783261   \n",
       "1724  1725  6324090       6324090  55548884         3296        NaN   \n",
       "70      71    18490         18490   4836639         2618  141439475   \n",
       "292    293      295           295   3077988         2573  753453800   \n",
       "42      43    10210         10210   2977639         2568  142437204   \n",
       "\n",
       "            isbn13                                            authors  \\\n",
       "9     9.780680e+12                                        Jane Austen   \n",
       "1724           NaN                        Lewis Carroll, John Tenniel   \n",
       "70    9.780141e+12  Mary Wollstonecraft Shelley, Percy Bysshe Shel...   \n",
       "292   9.780753e+12                             Robert Louis Stevenson   \n",
       "42    9.780142e+12                    Charlotte Brontë, Michael Mason   \n",
       "\n",
       "      original_publication_year                           original_title  ...  \\\n",
       "9                        1813.0                      Pride and Prejudice  ...   \n",
       "1724                     1865.0                                      NaN  ...   \n",
       "70                       1818.0  Frankenstein; or, The Modern Prometheus  ...   \n",
       "292                      1882.0                          Treasure Island  ...   \n",
       "42                       1847.0                                Jane Eyre  ...   \n",
       "\n",
       "     ratings_count work_ratings_count  work_text_reviews_count  ratings_1  \\\n",
       "9          2035490            2191465                    49152      54700   \n",
       "1724         30426              85031                     5047       1724   \n",
       "70          808589             883563                    19993      29366   \n",
       "292         268012             310515                     7917       5349   \n",
       "42         1198557            1286135                    31212      35132   \n",
       "\n",
       "      ratings_2  ratings_3  ratings_4  ratings_5  \\\n",
       "9         86485     284852     609755    1155673   \n",
       "1724       4863      18094      27848      32502   \n",
       "70        74142     231022     300495     248538   \n",
       "292       19127      86487     114968      84584   \n",
       "42        64274     212294     400214     574221   \n",
       "\n",
       "                                              image_url  \\\n",
       "9     https://images.gr-assets.com/books/1320399351m...   \n",
       "1724  https://images.gr-assets.com/books/1391204048m...   \n",
       "70    https://images.gr-assets.com/books/1381512375m...   \n",
       "292   https://images.gr-assets.com/books/1485248909m...   \n",
       "42    https://images.gr-assets.com/books/1327867269m...   \n",
       "\n",
       "                                        small_image_url  \n",
       "9     https://images.gr-assets.com/books/1320399351s...  \n",
       "1724  https://images.gr-assets.com/books/1391204048s...  \n",
       "70    https://images.gr-assets.com/books/1381512375s...  \n",
       "292   https://images.gr-assets.com/books/1485248909s...  \n",
       "42    https://images.gr-assets.com/books/1327867269s...  \n",
       "\n",
       "[5 rows x 23 columns]"
      ]
     },
     "execution_count": 17,
     "metadata": {},
     "output_type": "execute_result"
    }
   ],
   "source": [
    "books.sort_values(by='books_count', ascending=False)[0:5]"
   ]
  },
  {
   "cell_type": "code",
   "execution_count": 40,
   "id": "deb6ea95",
   "metadata": {},
   "outputs": [
    {
     "data": {
      "application/vnd.jupyter.widget-view+json": {
       "model_id": "b35165afedfc461bae0f9923ec1d2532",
       "version_major": 2,
       "version_minor": 0
      },
      "text/plain": [
       "  0%|          | 0/53382 [00:00<?, ?it/s]"
      ]
     },
     "metadata": {},
     "output_type": "display_data"
    }
   ],
   "source": [
    "popular_rec_model = books.sort_values(by='books_count', ascending=False)['book_id'].values[0:500]\n",
    "total_rec_list = {}\n",
    "for user in tqdm(rec_df[\"user_id\"].unique()):\n",
    "    total_rec_list[user] = list(popular_rec_model[:200])\n"
   ]
  },
  {
   "cell_type": "code",
   "execution_count": 28,
   "id": "83f8aa63",
   "metadata": {},
   "outputs": [
    {
     "data": {
      "application/vnd.jupyter.widget-view+json": {
       "model_id": "65042a5bc65a415b899d2aba332f7ade",
       "version_major": 2,
       "version_minor": 0
      },
      "text/plain": [
       "  0%|          | 0/53382 [00:00<?, ?it/s]"
      ]
     },
     "metadata": {},
     "output_type": "display_data"
    }
   ],
   "source": [
    "total_rec_list = {}\n",
    "for user in tqdm(rec_df['user_id'].unique()):\n",
    "    rec_list = []\n",
    "    for rec in popular_rec_model[0:200]: \n",
    "        rec_list.append(rec)\n",
    "    total_rec_list[user] = rec_list"
   ]
  },
  {
   "cell_type": "markdown",
   "id": "b591fe07",
   "metadata": {},
   "source": [
    "# evaluate 하는 부분이 여기서 나온다."
   ]
  },
  {
   "cell_type": "code",
   "execution_count": 41,
   "id": "03488f4e",
   "metadata": {},
   "outputs": [],
   "source": [
    "import six\n",
    "import math\n",
    "\n",
    "# https://github.com/kakao-arena/brunch-article-recommendation/blob/master/evaluate.py\n",
    "\n",
    "class evaluate():\n",
    "    def __init__(self, recs, gt, topn=100):\n",
    "        self.recs = recs\n",
    "        self.gt = gt \n",
    "        self.topn = topn \n",
    "        \n",
    "    def _ndcg(self):\n",
    "        Q, S = 0.0, 0.0\n",
    "        for u, seen in six.iteritems(self.gt):\n",
    "            seen = list(set(seen))\n",
    "            rec = self.recs.get(u, [])\n",
    "            if not rec or len(seen) == 0:\n",
    "                continue\n",
    "\n",
    "            dcg = 0.0\n",
    "            idcg = sum([1.0 / math.log(i + 2, 2) for i in range(min(len(seen), len(rec)))])\n",
    "            for i, r in enumerate(rec):\n",
    "                if r not in seen:\n",
    "                    continue\n",
    "                rank = i + 1\n",
    "                dcg += 1.0 / math.log(rank + 1, 2)\n",
    "            ndcg = dcg / idcg\n",
    "            S += ndcg\n",
    "            Q += 1\n",
    "        return S / Q\n",
    "\n",
    "\n",
    "    def _map(self):\n",
    "        n, ap = 0.0, 0.0\n",
    "        for u, seen in six.iteritems(self.gt):\n",
    "            seen = list(set(seen))\n",
    "            rec = self.recs.get(u, [])\n",
    "            if not rec or len(seen) == 0:\n",
    "                continue\n",
    "\n",
    "            _ap, correct = 0.0, 0.0\n",
    "            for i, r in enumerate(rec):\n",
    "                if r in seen:\n",
    "                    correct += 1\n",
    "                    _ap += (correct / (i + 1.0))\n",
    "            _ap /= min(len(seen), len(rec))\n",
    "            ap += _ap\n",
    "            n += 1.0\n",
    "        return ap / n\n",
    "\n",
    "\n",
    "    def _entropy_diversity(self):\n",
    "        sz = float(len(self.recs)) * self.topn\n",
    "        freq = {}\n",
    "        for u, rec in six.iteritems(self.recs):\n",
    "            for r in rec:\n",
    "                freq[r] = freq.get(r, 0) + 1\n",
    "        ent = -sum([v / sz * math.log(v / sz) for v in six.itervalues(freq)])\n",
    "        return ent\n",
    "    \n",
    "    def _evaluate(self):\n",
    "        print('MAP@%s: %s' % (self.topn, self._map()))\n",
    "        print('NDCG@%s: %s' % (self.topn, self._ndcg()))\n",
    "        print('EntDiv@%s: %s' % (self.topn, self._entropy_diversity()))"
   ]
  },
  {
   "cell_type": "code",
   "execution_count": 42,
   "id": "676a367e",
   "metadata": {},
   "outputs": [],
   "source": [
    "evaluate_func = evaluate(recs = total_rec_list,\n",
    "                         gt = gt,\n",
    "                         topn=200)\n",
    "\n",
    "#evaluate_func._evaluate()"
   ]
  },
  {
   "cell_type": "code",
   "execution_count": 43,
   "id": "8dfe2fed",
   "metadata": {},
   "outputs": [
    {
     "name": "stdout",
     "output_type": "stream",
     "text": [
      "MAP@200: 0.00015443987007568514\n",
      "NDCG@200: 0.0017911738188034422\n",
      "EntDiv@200: 5.298317366548021\n"
     ]
    }
   ],
   "source": [
    "# MAP, NDCG값이 모두 낮게나옴 -> 1일수록 좋은 값임 -> 우리가 추천한 리스트와 gt가 얼마나 맞는지 \n",
    "\n",
    "evaluate_func._evaluate()\n"
   ]
  },
  {
   "cell_type": "markdown",
   "id": "50e15e97",
   "metadata": {},
   "source": [
    "# 이번엔 MF를 통해 추천"
   ]
  },
  {
   "cell_type": "code",
   "execution_count": 45,
   "id": "ce18b743",
   "metadata": {},
   "outputs": [],
   "source": [
    "import numpy as np\n",
    "from tqdm import tqdm_notebook as tqdm\n",
    "\n",
    "import numpy as np\n",
    "\n",
    "# Base code : https://yamalab.tistory.com/92\n",
    "class MatrixFactorization():\n",
    "    def __init__(self, R, k, learning_rate, reg_param, epochs, verbose=False):\n",
    "        \"\"\"\n",
    "        :param R: rating matrix\n",
    "        :param k: latent parameter\n",
    "        :param learning_rate: alpha on weight update\n",
    "        :param reg_param: beta on weight update\n",
    "        :param epochs: training epochs\n",
    "        :param verbose: print status\n",
    "        \"\"\"\n",
    "        self._R = R\n",
    "        self._num_users, self._num_items = R.shape\n",
    "        self._k = k\n",
    "        self._learning_rate = learning_rate\n",
    "        self._reg_param = reg_param\n",
    "        self._epochs = epochs\n",
    "        self._verbose = verbose\n",
    "\n",
    "\n",
    "    def fit(self):\n",
    "        \"\"\"\n",
    "        training Matrix Factorization : Update matrix latent weight and bias\n",
    "\n",
    "        참고: self._b에 대한 설명\n",
    "        - global bias: input R에서 평가가 매겨진 rating의 평균값을 global bias로 사용\n",
    "        - 정규화 기능. 최종 rating에 음수가 들어가는 것 대신 latent feature에 음수가 포함되도록 해줌.\n",
    "\n",
    "        :return: training_process\n",
    "        \"\"\"\n",
    "\n",
    "        # init latent features\n",
    "        self._P = np.random.normal(size=(self._num_users, self._k))\n",
    "        self._Q = np.random.normal(size=(self._num_items, self._k))\n",
    "\n",
    "        # init biases\n",
    "        self._b_P = np.zeros(self._num_users)\n",
    "        self._b_Q = np.zeros(self._num_items)\n",
    "        self._b = np.mean(self._R[np.where(self._R != 0)])\n",
    "\n",
    "        # train while epochs\n",
    "        self._training_process = []\n",
    "        for epoch in range(self._epochs):\n",
    "            # rating이 존재하는 index를 기준으로 training\n",
    "            xi, yi = self._R.nonzero()\n",
    "            for i, j in zip(xi, yi):\n",
    "                self.gradient_descent(i, j, self._R[i, j])\n",
    "            cost = self.cost()\n",
    "            self._training_process.append((epoch, cost))\n",
    "\n",
    "            # print status\n",
    "            if self._verbose == True and ((epoch + 1) % 10 == 0):\n",
    "                print(\"Iteration: %d ; cost = %.4f\" % (epoch + 1, cost))\n",
    "\n",
    "\n",
    "    def cost(self):\n",
    "        \"\"\"\n",
    "        compute root mean square error\n",
    "        :return: rmse cost\n",
    "        \"\"\"\n",
    "\n",
    "        # xi, yi: R[xi, yi]는 nonzero인 value를 의미한다.\n",
    "        # 참고: http://codepractice.tistory.com/90\n",
    "        xi, yi = self._R.nonzero()\n",
    "        # predicted = self.get_complete_matrix()\n",
    "        cost = 0\n",
    "        for x, y in zip(xi, yi):\n",
    "            cost += pow(self._R[x, y] - self.get_prediction(x, y), 2)\n",
    "        return np.sqrt(cost/len(xi))\n",
    "\n",
    "\n",
    "    def gradient(self, error, i, j):\n",
    "        \"\"\"\n",
    "        gradient of latent feature for GD\n",
    "\n",
    "        :param error: rating - prediction error\n",
    "        :param i: user index\n",
    "        :param j: item index\n",
    "        :return: gradient of latent feature tuple\n",
    "        \"\"\"\n",
    "\n",
    "        dp = (error * self._Q[j, :]) - (self._reg_param * self._P[i, :])\n",
    "        dq = (error * self._P[i, :]) - (self._reg_param * self._Q[j, :])\n",
    "        return dp, dq\n",
    "\n",
    "\n",
    "    def gradient_descent(self, i, j, rating):\n",
    "        \"\"\"\n",
    "        graident descent function\n",
    "\n",
    "        :param i: user index of matrix\n",
    "        :param j: item index of matrix\n",
    "        :param rating: rating of (i,j)\n",
    "        \"\"\"\n",
    "\n",
    "        # get error\n",
    "        prediction = self.get_prediction(i, j)\n",
    "        error = rating - prediction\n",
    "\n",
    "        # update biases\n",
    "        self._b_P[i] += self._learning_rate * (error - self._reg_param * self._b_P[i])\n",
    "        self._b_Q[j] += self._learning_rate * (error - self._reg_param * self._b_Q[j])\n",
    "\n",
    "        # update latent feature\n",
    "        dp, dq = self.gradient(error, i, j)\n",
    "        self._P[i, :] += self._learning_rate * dp\n",
    "        self._Q[j, :] += self._learning_rate * dq\n",
    "\n",
    "\n",
    "    def get_prediction(self, i, j):\n",
    "        \"\"\"\n",
    "        get predicted rating: user_i, item_j\n",
    "        :return: prediction of r_ij\n",
    "        \"\"\"\n",
    "        return self._b + self._b_P[i] + self._b_Q[j] + self._P[i, :].dot(self._Q[j, :].T)\n",
    "\n",
    "\n",
    "    def get_complete_matrix(self):\n",
    "        \"\"\"\n",
    "        computer complete matrix PXQ + P.bias + Q.bias + global bias\n",
    "\n",
    "        - PXQ 행렬에 b_P[:, np.newaxis]를 더하는 것은 각 열마다 bias를 더해주는 것\n",
    "        - b_Q[np.newaxis:, ]를 더하는 것은 각 행마다 bias를 더해주는 것\n",
    "        - b를 더하는 것은 각 element마다 bias를 더해주는 것\n",
    "\n",
    "        - newaxis: 차원을 추가해줌. 1차원인 Latent들로 2차원의 R에 행/열 단위 연산을 해주기위해 차원을 추가하는 것.\n",
    "\n",
    "        :return: complete matrix R^\n",
    "        \"\"\"\n",
    "        return self._b + self._b_P[:, np.newaxis] + self._b_Q[np.newaxis:, ] + self._P.dot(self._Q.T)"
   ]
  },
  {
   "cell_type": "code",
   "execution_count": 46,
   "id": "8b581cc4",
   "metadata": {},
   "outputs": [],
   "source": [
    "user2idx = {}\n",
    "for i, l in enumerate(train['user_id'].unique()):\n",
    "    user2idx[l] = i\n",
    "    \n",
    "book2idx = {}\n",
    "for i, l in enumerate(train['book_id'].unique()):\n",
    "    book2idx[l] = i"
   ]
  },
  {
   "cell_type": "code",
   "execution_count": 47,
   "id": "010e46df",
   "metadata": {},
   "outputs": [],
   "source": [
    "idx2user = {i: user for user, i in user2idx.items()}\n",
    "idx2book = {i: item for item, i in book2idx.items()}"
   ]
  },
  {
   "cell_type": "code",
   "execution_count": 48,
   "id": "60456c49",
   "metadata": {},
   "outputs": [],
   "source": [
    "data = train[['user_id', 'book_id']].reset_index(drop=True)\n",
    "useridx = data['useridx'] = train['user_id'].apply(lambda x: user2idx[x]).values\n",
    "bookidx = data['bookidx'] = train['book_id'].apply(lambda x: book2idx[x]).values\n",
    "rating = np.ones(len(data))\n"
   ]
  },
  {
   "cell_type": "code",
   "execution_count": 49,
   "id": "f19b8fc6",
   "metadata": {},
   "outputs": [
    {
     "data": {
      "text/plain": [
       "<53382x10000 sparse matrix of type '<class 'numpy.float64'>'\n",
       "\twith 386688 stored elements in Compressed Sparse Row format>"
      ]
     },
     "execution_count": 49,
     "metadata": {},
     "output_type": "execute_result"
    }
   ],
   "source": [
    "import scipy \n",
    "purchase_sparse = scipy.sparse.csr_matrix((rating, (useridx, bookidx)), shape=(len(set(useridx)), len(set(bookidx))))\n",
    "purchase_sparse"
   ]
  },
  {
   "cell_type": "code",
   "execution_count": 50,
   "id": "eb17493d",
   "metadata": {},
   "outputs": [],
   "source": [
    "R = purchase_sparse.toarray()\n"
   ]
  },
  {
   "cell_type": "code",
   "execution_count": 52,
   "id": "681d5e97",
   "metadata": {},
   "outputs": [
    {
     "name": "stdout",
     "output_type": "stream",
     "text": [
      "Iteration: 10 ; cost = 0.4612\n",
      "Iteration: 20 ; cost = 0.3126\n",
      "Iteration: 30 ; cost = 0.2587\n",
      "Iteration: 40 ; cost = 0.2291\n",
      "Iteration: 50 ; cost = 0.2093\n",
      "Iteration: 60 ; cost = 0.1943\n",
      "Iteration: 70 ; cost = 0.1823\n",
      "Iteration: 80 ; cost = 0.1722\n",
      "Iteration: 90 ; cost = 0.1637\n",
      "Iteration: 100 ; cost = 0.1562\n",
      "CPU times: user 35min 51s, sys: 17.9 s, total: 36min 9s\n",
      "Wall time: 1h 55min 3s\n"
     ]
    }
   ],
   "source": [
    "%%time\n",
    "factorizer = MatrixFactorization(R, k=20, learning_rate=0.01, reg_param=0.01, epochs=100, verbose=True)\n",
    "factorizer.fit()"
   ]
  },
  {
   "cell_type": "code",
   "execution_count": 53,
   "id": "a5e130ba",
   "metadata": {},
   "outputs": [],
   "source": [
    "del R; gc.collect() \n",
    "sgd_rec_model = factorizer.get_complete_matrix()"
   ]
  },
  {
   "cell_type": "code",
   "execution_count": 54,
   "id": "6860fa74",
   "metadata": {},
   "outputs": [
    {
     "data": {
      "text/html": [
       "<div>\n",
       "<style scoped>\n",
       "    .dataframe tbody tr th:only-of-type {\n",
       "        vertical-align: middle;\n",
       "    }\n",
       "\n",
       "    .dataframe tbody tr th {\n",
       "        vertical-align: top;\n",
       "    }\n",
       "\n",
       "    .dataframe thead th {\n",
       "        text-align: right;\n",
       "    }\n",
       "</style>\n",
       "<table border=\"1\" class=\"dataframe\">\n",
       "  <thead>\n",
       "    <tr style=\"text-align: right;\">\n",
       "      <th></th>\n",
       "      <th>user_id</th>\n",
       "      <th>unique</th>\n",
       "    </tr>\n",
       "  </thead>\n",
       "  <tbody>\n",
       "    <tr>\n",
       "      <th>0</th>\n",
       "      <td>1</td>\n",
       "      <td>[4893]</td>\n",
       "    </tr>\n",
       "    <tr>\n",
       "      <th>1</th>\n",
       "      <td>2</td>\n",
       "      <td>[8855]</td>\n",
       "    </tr>\n",
       "    <tr>\n",
       "      <th>2</th>\n",
       "      <td>3</td>\n",
       "      <td>[9049]</td>\n",
       "    </tr>\n",
       "    <tr>\n",
       "      <th>3</th>\n",
       "      <td>4</td>\n",
       "      <td>[3273]</td>\n",
       "    </tr>\n",
       "    <tr>\n",
       "      <th>4</th>\n",
       "      <td>5</td>\n",
       "      <td>[4829, 6703]</td>\n",
       "    </tr>\n",
       "  </tbody>\n",
       "</table>\n",
       "</div>"
      ],
      "text/plain": [
       "   user_id        unique\n",
       "0        1        [4893]\n",
       "1        2        [8855]\n",
       "2        3        [9049]\n",
       "3        4        [3273]\n",
       "4        5  [4829, 6703]"
      ]
     },
     "execution_count": 54,
     "metadata": {},
     "output_type": "execute_result"
    }
   ],
   "source": [
    "# 내가 읽은 책의 목록을 추출 \n",
    "read_list = train.groupby(['user_id'])['book_id'].agg({'unique'}).reset_index()\n",
    "read_list.head()"
   ]
  },
  {
   "cell_type": "code",
   "execution_count": 55,
   "id": "65df2515",
   "metadata": {},
   "outputs": [
    {
     "name": "stderr",
     "output_type": "stream",
     "text": [
      "/var/folders/mh/jx8lklg147lb8j4rz9bcxl6w0000gn/T/ipykernel_84221/2805022152.py:2: TqdmDeprecationWarning: This function will be removed in tqdm==5.0.0\n",
      "Please use `tqdm.notebook.tqdm` instead of `tqdm.tqdm_notebook`\n"
     ]
    },
    {
     "data": {
      "application/vnd.jupyter.widget-view+json": {
       "model_id": "fac48f9f75ba434086efbfda53728382",
       "version_major": 2,
       "version_minor": 0
      },
      "text/plain": [
       "  0%|          | 0/53382 [00:00<?, ?it/s]"
      ]
     },
     "metadata": {},
     "output_type": "display_data"
    }
   ],
   "source": [
    "total_rec_list = {}\n",
    "for user in tqdm(data['useridx'].unique()):\n",
    "    rec_list = []\n",
    "    \n",
    "    # 기존에 만든 Book ID를 변경 \n",
    "    rating_scores = [(idx2book[i], c) for i, c in enumerate(sgd_rec_model[user]) if i != user] # 자기 자신이 추천안되도록 \n",
    "    rating_scores = sorted(rating_scores, key = lambda x: x[1], reverse=True) # 평점이 높은 순서대로 정렬 \n",
    "    \n",
    "    seen = read_list[read_list['user_id'] == idx2user[user]]['unique'].values[0]\n",
    "    for rec in rating_scores[0:250]: \n",
    "        if rec[0] not in seen:\n",
    "            rec_list.append(rec[0])\n",
    "    \n",
    "    if len(rec_list) < 200:\n",
    "        for i in popular_rec_model[0:200]:\n",
    "            if rec not in seen:\n",
    "                rec_list.append(rec)\n",
    "\n",
    "    total_rec_list[idx2user[user]] = rec_list[0:200]"
   ]
  },
  {
   "cell_type": "code",
   "execution_count": 56,
   "id": "c0f3385c",
   "metadata": {},
   "outputs": [
    {
     "name": "stdout",
     "output_type": "stream",
     "text": [
      "MAP@200: 0.0005666960747141744\n",
      "NDCG@200: 0.006098133759787509\n",
      "EntDiv@200: 8.30979859724462\n"
     ]
    }
   ],
   "source": [
    "evaluate_func = evaluate(recs=total_rec_list, gt = gt, topn=200)\n",
    "evaluate_func._evaluate()"
   ]
  },
  {
   "cell_type": "markdown",
   "id": "a7802cba",
   "metadata": {},
   "source": [
    "# ALS 방식을 이용하자."
   ]
  },
  {
   "cell_type": "code",
   "execution_count": 57,
   "id": "85986eed",
   "metadata": {},
   "outputs": [
    {
     "ename": "ModuleNotFoundError",
     "evalue": "No module named 'implicit'",
     "output_type": "error",
     "traceback": [
      "\u001b[0;31m---------------------------------------------------------------------------\u001b[0m",
      "\u001b[0;31mModuleNotFoundError\u001b[0m                       Traceback (most recent call last)",
      "Input \u001b[0;32mIn [57]\u001b[0m, in \u001b[0;36m<module>\u001b[0;34m\u001b[0m\n\u001b[0;32m----> 1\u001b[0m \u001b[38;5;28;01mfrom\u001b[39;00m \u001b[38;5;21;01mimplicit\u001b[39;00m\u001b[38;5;21;01m.\u001b[39;00m\u001b[38;5;21;01mevaluation\u001b[39;00m \u001b[38;5;28;01mimport\u001b[39;00m  \u001b[38;5;241m*\u001b[39m\n\u001b[1;32m      2\u001b[0m \u001b[38;5;28;01mfrom\u001b[39;00m \u001b[38;5;21;01mimplicit\u001b[39;00m\u001b[38;5;21;01m.\u001b[39;00m\u001b[38;5;21;01mals\u001b[39;00m \u001b[38;5;28;01mimport\u001b[39;00m AlternatingLeastSquares \u001b[38;5;28;01mas\u001b[39;00m ALS\n\u001b[1;32m      3\u001b[0m \u001b[38;5;28;01mfrom\u001b[39;00m \u001b[38;5;21;01mimplicit\u001b[39;00m\u001b[38;5;21;01m.\u001b[39;00m\u001b[38;5;21;01mbpr\u001b[39;00m \u001b[38;5;28;01mimport\u001b[39;00m BayesianPersonalizedRanking \u001b[38;5;28;01mas\u001b[39;00m BPR\n",
      "\u001b[0;31mModuleNotFoundError\u001b[0m: No module named 'implicit'"
     ]
    }
   ],
   "source": [
    "from implicit.evaluation import  *\n",
    "from implicit.als import AlternatingLeastSquares as ALS\n",
    "from implicit.bpr import BayesianPersonalizedRanking as BPR\n",
    "\n",
    "als_model = ALS(factors=20, regularization=0.01, iterations = 100)\n",
    "als_model.fit(purchase_sparse.T)"
   ]
  },
  {
   "cell_type": "code",
   "execution_count": null,
   "id": "9446bb4a",
   "metadata": {},
   "outputs": [],
   "source": [
    "total_rec_list = {}\n",
    "for user in tqdm(data['useridx'].unique()):\n",
    "    rec_list = []\n",
    "    \n",
    "    # 기존에 만든 Book ID를 변경 \n",
    "    seen = read_list[read_list['user_id'] == idx2user[user]]['unique'].values[0]\n",
    "    recs = als_model.recommend(user, purchase_sparse, N=250)\n",
    "    recs = [idx2book[x[0]] for x in recs][0:250]  \n",
    "    \n",
    "    for rec in recs: \n",
    "        if rec not in seen:\n",
    "            rec_list.append(rec)\n",
    "    \n",
    "    if len(rec_list) < 200:\n",
    "        for i in popular_rec_model[0:200]:\n",
    "            if rec not in seen:\n",
    "                rec_list.append(rec)\n",
    "\n",
    "    total_rec_list[idx2user[user]] = rec_list[0:200]"
   ]
  },
  {
   "cell_type": "code",
   "execution_count": null,
   "id": "878219f5",
   "metadata": {},
   "outputs": [],
   "source": [
    "evaluate_func = evaluate(recs=total_rec_list, gt = gt, topn=200)\n",
    "evaluate_func._evaluate()"
   ]
  },
  {
   "cell_type": "markdown",
   "id": "456a936a",
   "metadata": {},
   "source": [
    "# 정리하면\n",
    "유저에게 책을 추천하는 방식은 세 가지가 있다.\n",
    "\n",
    "1) 통계적인 방식\n",
    "2) MF 방식\n",
    "3) ALS 방식\n",
    "4) 이외에도 유저들이 읽은 책목록간에 유사도를 이용해서 \n"
   ]
  },
  {
   "cell_type": "code",
   "execution_count": null,
   "id": "ca7651f8",
   "metadata": {},
   "outputs": [],
   "source": []
  }
 ],
 "metadata": {
  "kernelspec": {
   "display_name": "Python 3 (ipykernel)",
   "language": "python",
   "name": "python3"
  },
  "language_info": {
   "codemirror_mode": {
    "name": "ipython",
    "version": 3
   },
   "file_extension": ".py",
   "mimetype": "text/x-python",
   "name": "python",
   "nbconvert_exporter": "python",
   "pygments_lexer": "ipython3",
   "version": "3.10.2"
  }
 },
 "nbformat": 4,
 "nbformat_minor": 5
}
